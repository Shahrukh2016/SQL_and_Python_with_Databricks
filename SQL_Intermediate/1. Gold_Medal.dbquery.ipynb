{
 "cells": [
  {
   "cell_type": "code",
   "execution_count": 0,
   "metadata": {
    "application/vnd.databricks.v1+cell": {
     "cellMetadata": {
      "byteLimit": 10485760,
      "rowLimit": 1000
     },
     "inputWidgets": {},
     "nuid": "e2b37246-a0cd-455d-977f-94f1648c71d6",
     "showTitle": false,
     "tableResultSettingsMap": {},
     "title": ""
    }
   },
   "outputs": [],
   "source": [
    "------------------------------ TABLE FORMATION ------------------------------\n",
    "CREATE TABLE events (\n",
    "ID int,\n",
    "event varchar(255),\n",
    "YEAR INt,\n",
    "GOLD varchar(255),\n",
    "SILVER varchar(255),\n",
    "BRONZE varchar(255)\n",
    ");\n",
    "\n",
    "delete from events;\n",
    "\n",
    "INSERT INTO events VALUES (1,'100m',2016, 'Amthhew Mcgarray','donald','barbara');\n",
    "INSERT INTO events VALUES (2,'200m',2016, 'Nichole','Alvaro Eaton','janet Smith');\n",
    "INSERT INTO events VALUES (3,'500m',2016, 'Charles','Nichole','Susana');\n",
    "INSERT INTO events VALUES (4,'100m',2016, 'Ronald','maria','paula');\n",
    "INSERT INTO events VALUES (5,'200m',2016, 'Alfred','carol','Steven');\n",
    "INSERT INTO events VALUES (6,'500m',2016, 'Nichole','Alfred','Brandon');\n",
    "INSERT INTO events VALUES (7,'100m',2016, 'Charles','Dennis','Susana');\n",
    "INSERT INTO events VALUES (8,'200m',2016, 'Thomas','Dawn','catherine');\n",
    "INSERT INTO events VALUES (9,'500m',2016, 'Thomas','Dennis','paula');\n",
    "INSERT INTO events VALUES (10,'100m',2016, 'Charles','Dennis','Susana');\n",
    "INSERT INTO events VALUES (11,'200m',2016, 'jessica','Donald','Stefeney');\n",
    "INSERT INTO events VALUES (12,'500m',2016,'Thomas','Steven','Catherine');\n",
    "\n",
    "------------------------------------------------------------------------------------------\n",
    "\n",
    "-- Q1: Write a query to find no of gold medal per swimmer for swimmers who won only gold medals.\n",
    "select * from events;\n",
    "\n",
    "-- Ans:\n",
    "-- Method 1: SubQuery\n",
    "select gold as player_name, count(*) as no_of_medals\n",
    "from events \n",
    "group by gold \n",
    "\n",
    "-- Method 1: Group By Having\n",
    "\n",
    "\n",
    "\n"
   ]
  }
 ],
 "metadata": {
  "application/vnd.databricks.v1+notebook": {
   "computePreferences": null,
   "dashboards": [],
   "environmentMetadata": null,
   "inputWidgetPreferences": null,
   "language": "sql",
   "notebookMetadata": {
    "pythonIndentUnit": 4,
    "sqlQueryOptions": {
     "applyAutoLimit": true,
     "catalog": "workspace",
     "schema": "default"
    }
   },
   "notebookName": "1. Gold_Medal.dbquery.ipynb",
   "widgets": {}
  },
  "language_info": {
   "name": "sql"
  }
 },
 "nbformat": 4,
 "nbformat_minor": 0
}

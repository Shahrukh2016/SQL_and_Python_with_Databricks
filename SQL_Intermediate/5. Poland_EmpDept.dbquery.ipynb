{
 "cells": [
  {
   "cell_type": "code",
   "execution_count": 0,
   "metadata": {
    "application/vnd.databricks.v1+cell": {
     "cellMetadata": {
      "byteLimit": 10485760,
      "rowLimit": 1000
     },
     "inputWidgets": {},
     "nuid": "63c5fb7e-048f-4813-a7df-da7d1de64195",
     "showTitle": false,
     "tableResultSettingsMap": {
      "0": {
       "dataGridStateBlob": "{\"version\":1,\"tableState\":{\"columnPinning\":{\"left\":[\"#row_number#\"],\"right\":[]},\"columnSizing\":{},\"columnVisibility\":{}},\"settings\":{\"columns\":{}},\"syncTimestamp\":1759143943450}",
       "filterBlob": null,
       "queryPlanFiltersBlob": null,
       "tableResultIndex": 0
      }
     },
     "title": ""
    }
   },
   "outputs": [],
   "source": [
    "------------------------------ TABLE FORMATION ------------------------------\n",
    "CREATE TABLE emp_salary\n",
    "(\n",
    "    emp_id INTEGER  NOT NULL,\n",
    "    name VARCHAR(20)  NOT NULL,\n",
    "    salary VARCHAR(30),\n",
    "    dept_id INTEGER\n",
    ");\n",
    "\n",
    "INSERT INTO emp_salary\n",
    "(emp_id, name, salary, dept_id)\n",
    "VALUES(101, 'sohan', '3000', '11'),\n",
    "(102, 'rohan', '4000', '12'),\n",
    "(103, 'mohan', '5000', '13'),\n",
    "(104, 'cat', '3000', '11'),\n",
    "(105, 'suresh', '4000', '12'),\n",
    "(109, 'mahesh', '7000', '12'),\n",
    "(108, 'kamal', '8000', '11');\n",
    "\n",
    "------------------------------------------------------------------------------------------\n",
    "\n",
    "-- Q1: Write a SQL to return all employee whose salary is same in same department\n",
    "-- Ans:\n",
    "-- Method 1: Using CTE and INNER JOIN\n",
    "with sal_dep as (\n",
    "select dept_id, salary\n",
    "from emp_salary\n",
    "group by dept_id, salary\n",
    "having count(1) > 1)\n",
    "\n",
    "select * from emp_salary as es \n",
    "inner join sal_dep as sd\n",
    "on es.dept_id = sd.dept_id and es.salary = sd.salary;\n",
    "\n",
    "-- Method 2: Using CTE and LEFT JOIN\n",
    "with sal_dep as (\n",
    "select dept_id, salary\n",
    "from emp_salary\n",
    "group by dept_id, salary\n",
    "having count(1) = 1)\n",
    "\n",
    "select * from emp_salary as es \n",
    "left join sal_dep as sd\n",
    "on es.dept_id = sd.dept_id and es.salary = sd.salary\n",
    "where sd.dept_id is null;\n",
    "\n",
    "\n",
    "-- Method 3: Using INNER JOIN\n",
    "select\n",
    "a1.name,a2.name\n",
    "from emp_salary as a1\n",
    "join emp_salary as a2\n",
    "using(dept_id)\n",
    "where \n",
    "a1.emp_id != a2.emp_id and a1.salary = a2.salary and a1.dept_id = a2.dept_id\n",
    "group by all\n",
    "\n",
    "\n",
    "\n",
    "\n",
    "\n"
   ]
  }
 ],
 "metadata": {
  "application/vnd.databricks.v1+notebook": {
   "computePreferences": null,
   "dashboards": [],
   "environmentMetadata": null,
   "inputWidgetPreferences": null,
   "language": "sql",
   "notebookMetadata": {
    "pythonIndentUnit": 4,
    "sqlQueryOptions": {
     "applyAutoLimit": true,
     "catalog": "workspace",
     "schema": "default"
    }
   },
   "notebookName": "5. Poland_EmpDept.dbquery.ipynb",
   "widgets": {}
  },
  "language_info": {
   "name": "sql"
  }
 },
 "nbformat": 4,
 "nbformat_minor": 0
}

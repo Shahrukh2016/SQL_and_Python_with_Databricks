{
 "cells": [
  {
   "cell_type": "code",
   "execution_count": 0,
   "metadata": {
    "application/vnd.databricks.v1+cell": {
     "cellMetadata": {
      "byteLimit": 10485760,
      "rowLimit": 64000
     },
     "inputWidgets": {},
     "nuid": "08b3b4e9-d158-43c9-936b-283f7a3fd7cb",
     "showTitle": false,
     "tableResultSettingsMap": {},
     "title": ""
    }
   },
   "outputs": [],
   "source": [
    "------------------------------ TABLE FORMATION ------------------------------\n",
    "create table airbnb_searches \n",
    "(\n",
    "user_id int,\n",
    "date_searched date,\n",
    "filter_room_types varchar(200)\n",
    ");\n",
    "delete from airbnb_searches;\n",
    "insert into airbnb_searches values\n",
    "(1,'2022-01-01','entire home,private room')\n",
    ",(2,'2022-01-02','entire home,shared room')\n",
    ",(3,'2022-01-02','private room,shared room')\n",
    ",(4,'2022-01-03','private room');\n",
    "\n",
    "------------------------------------------------------------------------------------------\n",
    "\n",
    "-- Q1: \n",
    "/*Find the room types that are searched most no of times.\n",
    "Output the room type alongside the number of searches for it.\n",
    "If the filter for room types has more than one room type,\n",
    "consider each unique room type as a separate row.\n",
    "Sort the result based on the number of searches in descending order.\n",
    "*/\n",
    "\n",
    "-- Ans:\n",
    "-- Method 1: Using CTE\n",
    "with cte as (\n",
    "select *, explode(split(filter_room_types, ',')) as room_type\n",
    "from airbnb_searches\n",
    ")\n",
    "select room_type, count(1) as total_searches\n",
    "from cte\n",
    "group by room_type\n",
    "order by count(*) desc;\n",
    "\n",
    "\n",
    "-- Method 2: Using Subquery\n",
    "select room_type, count(1) as total_searches\n",
    "from\n",
    "(select *, explode(split(filter_room_types, ',')) as room_type\n",
    "from airbnb_searches)\n",
    "group by room_type\n",
    "order by count(1) desc;\n",
    "\n",
    "\n",
    "\n",
    "\n",
    "\n",
    "\n",
    "\n",
    "\n",
    "\n",
    "\n",
    "\n",
    "\n",
    "\n",
    "\n",
    "\n"
   ]
  }
 ],
 "metadata": {
  "application/vnd.databricks.v1+notebook": {
   "computePreferences": null,
   "dashboards": [],
   "environmentMetadata": null,
   "inputWidgetPreferences": null,
   "language": "sql",
   "notebookMetadata": {
    "pythonIndentUnit": 4,
    "sqlQueryOptions": {
     "applyAutoLimit": false,
     "catalog": "workspace",
     "schema": "default"
    }
   },
   "notebookName": "4.Airbnb_Room_Type.dbquery.ipynb",
   "widgets": {}
  },
  "language_info": {
   "name": "sql"
  }
 },
 "nbformat": 4,
 "nbformat_minor": 0
}

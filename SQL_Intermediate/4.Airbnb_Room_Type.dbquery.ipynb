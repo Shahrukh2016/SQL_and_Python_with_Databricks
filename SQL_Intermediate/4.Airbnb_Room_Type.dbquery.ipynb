{
 "cells": [
  {
   "cell_type": "code",
   "execution_count": 0,
   "metadata": {
    "application/vnd.databricks.v1+cell": {
     "cellMetadata": {},
     "inputWidgets": {},
     "nuid": "08b3b4e9-d158-43c9-936b-283f7a3fd7cb",
     "showTitle": false,
     "tableResultSettingsMap": {},
     "title": ""
    }
   },
   "outputs": [],
   "source": [
    "------------------------------ TABLE FORMATION ------------------------------\n",
    "\n",
    "\n",
    "------------------------------------------------------------------------------------------\n",
    "\n",
    "-- Q1: \n",
    "/*Find the room types that are searched most no of times.\n",
    "Output the room type alongside the number of searches for it.\n",
    "If the filter for room types has more than one room type,\n",
    "consider each unique room type as a separate row.\n",
    "Sort the result based on the number of searches in descending order.\n",
    "*/\n",
    "\n",
    "-- Ans:\n",
    "-- Method 1: Using window function.\n",
    "\n"
   ]
  }
 ],
 "metadata": {
  "application/vnd.databricks.v1+notebook": {
   "computePreferences": null,
   "dashboards": [],
   "environmentMetadata": null,
   "inputWidgetPreferences": null,
   "language": "sql",
   "notebookMetadata": {
    "pythonIndentUnit": 4,
    "sqlQueryOptions": {
     "applyAutoLimit": true,
     "catalog": "workspace",
     "schema": "default"
    }
   },
   "notebookName": "4.Airbnb_Room_Type.dbquery.ipynb",
   "widgets": {}
  },
  "language_info": {
   "name": "sql"
  }
 },
 "nbformat": 4,
 "nbformat_minor": 0
}

{
 "cells": [
  {
   "cell_type": "code",
   "execution_count": 0,
   "metadata": {
    "application/vnd.databricks.v1+cell": {
     "cellMetadata": {
      "byteLimit": 10485760,
      "rowLimit": 1000
     },
     "inputWidgets": {},
     "nuid": "4cd5e08c-e468-47c7-b109-d681d4d90e59",
     "showTitle": false,
     "tableResultSettingsMap": {},
     "title": ""
    }
   },
   "outputs": [],
   "source": [
    "------------------------------ TABLE FORMATION ------------------------------\n",
    "------------------------------ TABLE FORMATION ------------------------------\n",
    "drop table if exists artists;\n",
    "drop table if exists songs;\n",
    "drop table if exists global_song_rank;\n",
    "\n",
    "\n",
    "-- Create tables\n",
    "CREATE TABLE artists (\n",
    "    artist_id INT PRIMARY KEY,\n",
    "    artist_name VARCHAR(100),\n",
    "    label_owner VARCHAR(100)\n",
    ");\n",
    "\n",
    "CREATE TABLE songs (\n",
    "    song_id INT PRIMARY KEY,\n",
    "    artist_id INT,\n",
    "    name VARCHAR(200),\n",
    "    FOREIGN KEY (artist_id) REFERENCES artists(artist_id)\n",
    ");\n",
    "\n",
    "CREATE TABLE global_song_rank (\n",
    "    day INT,\n",
    "    song_id INT,\n",
    "    rank INT,\n",
    "    FOREIGN KEY (song_id) REFERENCES songs(song_id)\n",
    ");\n",
    "\n",
    "-- Insert into artists\n",
    "INSERT INTO artists (artist_id, artist_name, label_owner) VALUES\n",
    "(101, 'Ed Sheeran', 'Warner Music Group'),\n",
    "(120, 'Drake', 'Warner Music Group'),\n",
    "(125, 'Bad Bunny', 'Rimas Entertainment');\n",
    "\n",
    "-- Insert into songs\n",
    "INSERT INTO songs (song_id, artist_id, name) VALUES\n",
    "(55511, 101, 'Perfect'),\n",
    "(45202, 101, 'Shape of You'),\n",
    "(22222, 120, 'One Dance'),\n",
    "(19960, 120, 'Hotline Bling'),\n",
    "(33333, 125, 'Dakiti');\n",
    "\n",
    "-- Insert into global_song_rank\n",
    "INSERT INTO global_song_rank (day, song_id, rank) VALUES\n",
    "(1, 45202, 5),     -- Shape of You (Top 10)\n",
    "(3, 45202, 2),     -- Shape of You (Top 10)\n",
    "(1, 19960, 3),     -- Hotline Bling (Top 10)\n",
    "(9, 19960, 15),    -- Hotline Bling (not Top 10)\n",
    "(4, 55511, 7),     -- Perfect (Top 10)\n",
    "(6, 22222, 20),    -- One Dance (not Top 10)\n",
    "(2, 33333, 8),     -- Dakiti (Top 10)\n",
    "(5, 33333, 12);    -- Dakiti (not Top 10)\n",
    "\n",
    "------------------------------------------------------------------------------------------\n",
    "\n",
    "-- Q1: /* Write a query to find the top 5 artists whose songs appear most frequently in the Top 10 of the global_song_rank table. Display the top 5 artist names in ascending order, along with their song appearance ranking. */\n",
    "\n",
    "-- Ans:\n",
    "-- Method 1: \n"
   ]
  }
 ],
 "metadata": {
  "application/vnd.databricks.v1+notebook": {
   "computePreferences": null,
   "dashboards": [],
   "environmentMetadata": null,
   "inputWidgetPreferences": null,
   "language": "sql",
   "notebookMetadata": {
    "pythonIndentUnit": 4,
    "sqlQueryOptions": {
     "applyAutoLimit": true,
     "catalog": "workspace",
     "schema": "default"
    }
   },
   "notebookName": "10. Spotify_top5_Artists.dbquery.ipynb",
   "widgets": {}
  },
  "language_info": {
   "name": "sql"
  }
 },
 "nbformat": 4,
 "nbformat_minor": 0
}

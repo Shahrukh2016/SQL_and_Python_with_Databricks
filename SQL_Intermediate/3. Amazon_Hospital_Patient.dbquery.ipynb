{
 "cells": [
  {
   "cell_type": "code",
   "execution_count": 0,
   "metadata": {
    "application/vnd.databricks.v1+cell": {
     "cellMetadata": {
      "byteLimit": 10485760,
      "rowLimit": 1000
     },
     "inputWidgets": {},
     "nuid": "d6c48516-0215-4194-a422-d67a0826c87d",
     "showTitle": false,
     "tableResultSettingsMap": {},
     "title": ""
    }
   },
   "outputs": [],
   "source": [
    "------------------------------ TABLE FORMATION ------------------------------\n",
    "create table hospital ( emp_id int\n",
    ", action varchar(10)\n",
    ", time datetime);\n",
    "\n",
    "insert into hospital values ('1', 'in', '2019-12-22 09:00:00');\n",
    "insert into hospital values ('1', 'out', '2019-12-22 09:15:00');\n",
    "insert into hospital values ('2', 'in', '2019-12-22 09:00:00');\n",
    "insert into hospital values ('2', 'out', '2019-12-22 09:15:00');\n",
    "insert into hospital values ('2', 'in', '2019-12-22 09:30:00');\n",
    "insert into hospital values ('3', 'out', '2019-12-22 09:00:00');\n",
    "insert into hospital values ('3', 'in', '2019-12-22 09:15:00');\n",
    "insert into hospital values ('3', 'out', '2019-12-22 09:30:00');\n",
    "insert into hospital values ('3', 'in', '2019-12-22 09:45:00');\n",
    "insert into hospital values ('4', 'in', '2019-12-22 09:45:00');\n",
    "insert into hospital values ('5', 'out', '2019-12-22 09:40:00');\n",
    "\n",
    "------------------------------------------------------------------------------------------\n",
    "\n",
    "-- Q1: Write a query to find total number of people present inside the hospital.\n",
    "-- Ans:\n",
    "\n"
   ]
  }
 ],
 "metadata": {
  "application/vnd.databricks.v1+notebook": {
   "computePreferences": null,
   "dashboards": [],
   "environmentMetadata": null,
   "inputWidgetPreferences": null,
   "language": "sql",
   "notebookMetadata": {
    "pythonIndentUnit": 4,
    "sqlQueryOptions": {
     "applyAutoLimit": true,
     "catalog": "workspace",
     "schema": "default"
    }
   },
   "notebookName": "3. Amazon_Hospital_Patient.dbquery.ipynb",
   "widgets": {}
  },
  "language_info": {
   "name": "sql"
  }
 },
 "nbformat": 4,
 "nbformat_minor": 0
}

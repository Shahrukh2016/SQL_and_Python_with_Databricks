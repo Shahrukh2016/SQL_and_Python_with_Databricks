{
 "cells": [
  {
   "cell_type": "code",
   "execution_count": 0,
   "metadata": {
    "application/vnd.databricks.v1+cell": {
     "cellMetadata": {
      "byteLimit": 10485760,
      "rowLimit": 1000
     },
     "inputWidgets": {},
     "nuid": "d6c48516-0215-4194-a422-d67a0826c87d",
     "showTitle": false,
     "tableResultSettingsMap": {},
     "title": ""
    }
   },
   "outputs": [],
   "source": [
    "------------------------------ TABLE FORMATION ------------------------------\n",
    "create table hospital ( emp_id int\n",
    ", action varchar(10)\n",
    ", time timestamp);\n",
    "\n",
    "insert into hospital values ('1', 'in', '2019-12-22 09:00:00');\n",
    "insert into hospital values ('1', 'out', '2019-12-22 09:15:00');\n",
    "insert into hospital values ('2', 'in', '2019-12-22 09:00:00');\n",
    "insert into hospital values ('2', 'out', '2019-12-22 09:15:00');\n",
    "insert into hospital values ('2', 'in', '2019-12-22 09:30:00');\n",
    "insert into hospital values ('3', 'out', '2019-12-22 09:00:00');\n",
    "insert into hospital values ('3', 'in', '2019-12-22 09:15:00');\n",
    "insert into hospital values ('3', 'out', '2019-12-22 09:30:00');\n",
    "insert into hospital values ('3', 'in', '2019-12-22 09:45:00');\n",
    "insert into hospital values ('4', 'in', '2019-12-22 09:45:00');\n",
    "insert into hospital values ('5', 'out', '2019-12-22 09:40:00');\n",
    "\n",
    "------------------------------------------------------------------------------------------\n",
    "\n",
    "-- Q1: Write a query to find total number of people present inside the hospital.\n",
    "-- Ans:\n",
    "-- Method 1: Using window function.\n",
    "with cte as (\n",
    "select *,\n",
    "dense_rank() over(partition by emp_id order by time desc) as rn\n",
    "from hospital\n",
    ")\n",
    "select count(*) as in_patient\n",
    "from cte where rn = 1 and upper(action) = 'IN';\n",
    "\n",
    "-- Method 2: Using CASE WHEN.\n",
    "select emp_id,\n",
    "max(\n",
    "case \n",
    "  when action = 'in' \n",
    "  then time \n",
    "end) as intime,\n",
    "max( \n",
    "case \n",
    "  when action = 'out' \n",
    "  then time \n",
    "end) as outtime\n",
    "from hospital\n",
    "group by emp_id\n",
    "having intime > outtime or outtime is null;\n",
    "\n",
    "\n",
    "-- Method 3: Separating IN and OUT time.\n",
    "select * from hospital; \n",
    "\n",
    "with in_time as (\n",
    "  select emp_id, max(time) as latest_in_time \n",
    "  from hospital\n",
    "  where action = 'in'\n",
    "  group by emp_id\n",
    "),\n",
    "out_time as (\n",
    "  select emp_id, max(time) as latest_out_time \n",
    "  from hospital\n",
    "  where action = 'out'\n",
    "  group by emp_id\n",
    ")\n",
    "select *\n",
    "from in_time\n",
    "left join out_time\n",
    "using(emp_id)\n",
    "where latest_in_time > latest_out_time or latest_out_time is null;\n",
    "\n",
    "\n",
    "\n"
   ]
  }
 ],
 "metadata": {
  "application/vnd.databricks.v1+notebook": {
   "computePreferences": null,
   "dashboards": [],
   "environmentMetadata": null,
   "inputWidgetPreferences": null,
   "language": "sql",
   "notebookMetadata": {
    "pythonIndentUnit": 4,
    "sqlQueryOptions": {
     "applyAutoLimit": true,
     "catalog": "workspace",
     "schema": "default"
    }
   },
   "notebookName": "3. Amazon_Hospital_Patient.dbquery.ipynb",
   "widgets": {}
  },
  "language_info": {
   "name": "sql"
  }
 },
 "nbformat": 4,
 "nbformat_minor": 0
}

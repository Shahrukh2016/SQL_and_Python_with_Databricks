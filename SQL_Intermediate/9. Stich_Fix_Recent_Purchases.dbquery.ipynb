{
 "cells": [
  {
   "cell_type": "code",
   "execution_count": 0,
   "metadata": {
    "application/vnd.databricks.v1+cell": {
     "cellMetadata": {
      "byteLimit": 10485760,
      "rowLimit": 1000
     },
     "inputWidgets": {},
     "nuid": "c0e0d6c1-2fed-4815-85cd-823c6443bdf8",
     "showTitle": false,
     "tableResultSettingsMap": {
      "0": {
       "dataGridStateBlob": "{\"version\":1,\"tableState\":{\"columnPinning\":{\"left\":[\"#row_number#\"],\"right\":[]},\"columnSizing\":{},\"columnVisibility\":{}},\"settings\":{\"columns\":{}},\"syncTimestamp\":1759418733869}",
       "filterBlob": null,
       "queryPlanFiltersBlob": null,
       "tableResultIndex": 0
      }
     },
     "title": ""
    }
   },
   "outputs": [],
   "source": [
    "------------------------------ TABLE FORMATION ------------------------------\n",
    "------------------------------ TABLE FORMATION ------------------------------\n",
    "DROP TABLE IF EXISTS purchases;\n",
    "\n",
    "-- Create a new table\n",
    "create table purchases(\n",
    "\tuser_id int,\n",
    "\tproduct_id int,\n",
    "\tquantity int,\n",
    "\tpurchase_date timestamp\n",
    ");\n",
    "\n",
    "insert into purchases values\n",
    "(536, 3223, 6, to_timestamp('01/11/2022 12:33:44', 'MM/dd/yyyy HH:mm:ss')),\n",
    "(827, 3585, 35, to_timestamp('02/20/2022 14:05:26', 'MM/dd/yyyy HH:mm:ss')),\n",
    "(536, 3223, 5, to_timestamp('03/02/2022 09:33:28', 'MM/dd/yyyy HH:mm:ss')),\n",
    "(536, 1435, 10, to_timestamp('03/02/2022 08:40:00', 'MM/dd/yyyy HH:mm:ss')),\n",
    "(827, 2452, 45, to_timestamp('04/09/2022 00:00:00', 'MM/dd/yyyy HH:mm:ss')),\n",
    "(536, 1789, 2, to_timestamp('03/02/2022 09:33:28', 'MM/dd/yyyy HH:mm:ss')),\n",
    "(536, 1999, 4, to_timestamp('03/02/2022 09:33:28', 'MM/dd/yyyy HH:mm:ss')),\n",
    "(827, 3585, 20, to_timestamp('02/20/2022 14:05:26', 'MM/dd/yyyy HH:mm:ss')),\n",
    "(827, 3585, 15, to_timestamp('02/20/2022 14:05:26', 'MM/dd/yyyy HH:mm:ss')),\n",
    "(536, 2452, 12, to_timestamp('04/01/2022 15:20:10', 'MM/dd/yyyy HH:mm:ss')),\n",
    "(536, 3585, 7, to_timestamp('05/15/2022 11:10:05', 'MM/dd/yyyy HH:mm:ss')),\n",
    "(536, 3223, 3, to_timestamp('06/01/2022 12:00:00', 'MM/dd/yyyy HH:mm:ss')),\n",
    "(536, 3223, 8, to_timestamp('07/10/2022 16:30:00', 'MM/dd/yyyy HH:mm:ss')),\n",
    "(901, 3585, 9, to_timestamp('02/20/2022 14:05:26', 'MM/dd/yyyy HH:mm:ss')),\n",
    "(902, 3585, 5, to_timestamp('02/20/2022 14:05:26', 'MM/dd/yyyy HH:mm:ss')),\n",
    "(901, 2452, 14, to_timestamp('04/11/2022 10:15:00', 'MM/dd/yyyy HH:mm:ss')),\n",
    "(902, 2452, 22, to_timestamp('05/05/2022 12:45:00', 'MM/dd/yyyy HH:mm:ss')),\n",
    "(901, 1789, 11, to_timestamp('06/15/2022 09:00:00', 'MM/dd/yyyy HH:mm:ss')),\n",
    "(902, 1999, 18, to_timestamp('06/15/2022 09:00:00', 'MM/dd/yyyy HH:mm:ss')),\n",
    "(901, 1435, 7, to_timestamp('07/20/2022 10:20:00', 'MM/dd/yyyy HH:mm:ss')),\n",
    "(902, 3223, 6, to_timestamp('08/25/2022 18:00:00', 'MM/dd/yyyy HH:mm:ss')),\n",
    "(536, 1789, 9, to_timestamp('09/01/2022 13:00:00', 'MM/dd/yyyy HH:mm:ss')),\n",
    "(827, 1999, 30, to_timestamp('09/05/2022 15:40:00', 'MM/dd/yyyy HH:mm:ss')),\n",
    "(901, 3223, 4, to_timestamp('09/10/2022 11:30:00', 'MM/dd/yyyy HH:mm:ss')),\n",
    "(902, 1435, 10, to_timestamp('09/12/2022 17:15:00', 'MM/dd/yyyy HH:mm:ss')),\n",
    "(827, 1435, 25, to_timestamp('10/01/2022 08:45:00', 'MM/dd/yyyy HH:mm:ss')),\n",
    "(536, 2452, 5, to_timestamp('10/10/2022 19:30:00', 'MM/dd/yyyy HH:mm:ss')),\n",
    "(901, 1999, 13, to_timestamp('10/15/2022 20:00:00', 'MM/dd/yyyy HH:mm:ss')),\n",
    "(902, 1789, 16, to_timestamp('10/20/2022 21:45:00', 'MM/dd/yyyy HH:mm:ss'));\n",
    "\n",
    "\n",
    "------------------------------------------------------------------------------------------\n",
    "\n",
    "-- Q1: /* Assume you are given the table below containing information on user purchases. Write a query to obtain the number of users who purchased the same product on two or more different days. Output the number of unique users. */\n",
    "\n",
    "-- Ans:\n",
    "-- Method 1: \n",
    "select *, date(purchase_date) as date\n",
    "from purchases;\n",
    "\n",
    "select user_id, product_id, count(distinct date(purchase_date)) as p_count\n",
    "from purchases\n",
    "group by user_id, product_id\n",
    "having p_count > 1"
   ]
  }
 ],
 "metadata": {
  "application/vnd.databricks.v1+notebook": {
   "computePreferences": null,
   "dashboards": [],
   "environmentMetadata": null,
   "inputWidgetPreferences": null,
   "language": "sql",
   "notebookMetadata": {
    "pythonIndentUnit": 4,
    "sqlQueryOptions": {
     "applyAutoLimit": true,
     "catalog": "workspace",
     "schema": "default"
    }
   },
   "notebookName": "9. Stich_Fix_Recent_Purchases.dbquery.ipynb",
   "widgets": {}
  },
  "language_info": {
   "name": "sql"
  }
 },
 "nbformat": 4,
 "nbformat_minor": 0
}

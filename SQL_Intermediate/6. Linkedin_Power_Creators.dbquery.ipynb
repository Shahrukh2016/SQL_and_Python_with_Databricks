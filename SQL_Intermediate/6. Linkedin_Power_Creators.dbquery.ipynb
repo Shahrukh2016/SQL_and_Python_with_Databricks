{
 "cells": [
  {
   "cell_type": "code",
   "execution_count": 0,
   "metadata": {
    "application/vnd.databricks.v1+cell": {
     "cellMetadata": {
      "byteLimit": 10485760,
      "rowLimit": 1000
     },
     "inputWidgets": {},
     "nuid": "73000e66-630a-421a-a3ad-94700458bbdf",
     "showTitle": false,
     "tableResultSettingsMap": {
      "0": {
       "dataGridStateBlob": "{\"version\":1,\"tableState\":{\"columnPinning\":{\"left\":[\"#row_number#\"],\"right\":[]},\"columnSizing\":{},\"columnVisibility\":{}},\"settings\":{\"columns\":{}},\"syncTimestamp\":1759254165378}",
       "filterBlob": null,
       "queryPlanFiltersBlob": null,
       "tableResultIndex": 0
      }
     },
     "title": ""
    }
   },
   "outputs": [],
   "source": [
    "------------------------------ TABLE FORMATION ------------------------------\n",
    "-- Drop tables if they already exist\n",
    "DROP TABLE IF EXISTS employee_company;\n",
    "DROP TABLE IF EXISTS personal_profiles;\n",
    "DROP TABLE IF EXISTS company_pages;\n",
    "\n",
    "-- Company pages table\n",
    "CREATE TABLE company_pages (\n",
    "    company_id   INT PRIMARY KEY,\n",
    "    name         VARCHAR(100),\n",
    "    followers    INT\n",
    ");\n",
    "\n",
    "-- Personal profiles table\n",
    "CREATE TABLE personal_profiles (\n",
    "    profile_id   INT PRIMARY KEY,\n",
    "    name         VARCHAR(100),\n",
    "    followers    INT\n",
    ");\n",
    "\n",
    "-- Junction table: a profile can work for multiple companies\n",
    "CREATE TABLE employee_company (\n",
    "    profile_id   INT,\n",
    "    company_id   INT,\n",
    "    -- optional: maybe a start / end date or role field\n",
    "    PRIMARY KEY (profile_id, company_id),\n",
    "    FOREIGN KEY (profile_id)  REFERENCES personal_profiles(profile_id),\n",
    "    FOREIGN KEY (company_id)  REFERENCES company_pages(company_id)\n",
    ");\n",
    "\n",
    "-- Insert into personal_profiles\n",
    "INSERT INTO personal_profiles (profile_id, name, followers) VALUES\n",
    "(1, 'Nick Singh', 92000),\n",
    "(2, 'Zach Wilson', 199000),\n",
    "(3, 'Daliana Liu', 171000),\n",
    "(4, 'Ravit Jain', 107000),\n",
    "(5, 'Vin Vashishta', 139000),\n",
    "(6, 'Susan Wojcicki', 39000);\n",
    "\n",
    "-- Insert into company_pages\n",
    "INSERT INTO company_pages (company_id, name, followers) VALUES\n",
    "(1, 'DataLemur', 8000),\n",
    "(2, 'The Data Science Podcast', 700000),\n",
    "(3, 'Airbnb', 6000),\n",
    "(4, 'The Ravit Show', 200),\n",
    "(5, 'YouTube', 16000000),\n",
    "(6, 'DataScience.Vin', 4500),\n",
    "(9, 'Ace The Data Science Inter', 4479);\n",
    "\n",
    "-- Insert into employee_company\n",
    "INSERT INTO employee_company (profile_id, company_id) VALUES\n",
    "(1, 4),   -- Nick Singh → The Ravit Show\n",
    "(1, 9),   -- Nick Singh → Ace The Data Science Inter\n",
    "(2, 2),   -- Zach Wilson → The Data Science Podcast\n",
    "(3, 4),   -- Daliana Liu → The Ravit Show\n",
    "(4, 3),   -- Ravit Jain → Airbnb\n",
    "(5, 6),   -- Vin Vashishta → DataScience.Vin\n",
    "(6, 5);   -- Susan Wojcicki → YouTube\n",
    "------------------------------------------------------------------------------------------\n",
    "\n",
    "-- Q1: The Linkedin Creator team is looking for power creators who use their personal profile as a company or influencer page. If someone's Linkedin page has more followers than the company they work for, we can safely assume that person is a polver creator. Write a query to return the IDs of these Linkedin power creators.\n",
    "\n",
    "-- Ans:\n",
    "-- Method 1: Using LEFT JOIN\n",
    "select * from employee_company;\n",
    "select * from personal_profiles;\n",
    "select * from company_pages;\n",
    "\n",
    "with cte as (\n",
    "  select\n",
    "    ec.profile_id,\n",
    "    pp.name as personal_name,\n",
    "    cp.name as company_name,\n",
    "    sum(cp.followers) over(partition by ec.profile_id) as company_total_followers,\n",
    "    max(pp.followers) over(partition by ec.profile_id) as personal_total_followers\n",
    "  from employee_company ec\n",
    "  left join company_pages cp\n",
    "    on ec.company_id = cp.company_id\n",
    "  left join personal_profiles pp\n",
    "    on ec.profile_id = pp.profile_id\n",
    ")\n",
    "select\n",
    "  profile_id,\n",
    "  personal_name\n",
    "from cte\n",
    "group by profile_id, personal_name\n",
    "having max(personal_total_followers) > max(company_total_followers)\n",
    "\n",
    "\n",
    "\n",
    "\n"
   ]
  }
 ],
 "metadata": {
  "application/vnd.databricks.v1+notebook": {
   "computePreferences": null,
   "dashboards": [],
   "environmentMetadata": null,
   "inputWidgetPreferences": null,
   "language": "sql",
   "notebookMetadata": {
    "sqlQueryOptions": {
     "applyAutoLimit": true,
     "catalog": "workspace",
     "schema": "default"
    }
   },
   "notebookName": "6. Linkedin_Power_Creators.dbquery.ipynb",
   "widgets": {}
  },
  "language_info": {
   "name": "sql"
  }
 },
 "nbformat": 4,
 "nbformat_minor": 0
}

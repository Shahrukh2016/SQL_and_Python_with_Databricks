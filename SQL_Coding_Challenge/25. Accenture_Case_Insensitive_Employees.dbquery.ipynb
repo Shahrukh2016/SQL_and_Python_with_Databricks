{
 "cells": [
  {
   "cell_type": "code",
   "execution_count": 0,
   "metadata": {
    "application/vnd.databricks.v1+cell": {
     "cellMetadata": {
      "byteLimit": 10485760,
      "rowLimit": 1000
     },
     "inputWidgets": {},
     "nuid": "194eac9c-5b2e-4e80-9fe4-2f49fe482d9e",
     "showTitle": false,
     "tableResultSettingsMap": {
      "0": {
       "dataGridStateBlob": "{\"version\":1,\"tableState\":{\"columnPinning\":{\"left\":[\"#row_number#\"],\"right\":[]},\"columnSizing\":{},\"columnVisibility\":{}},\"settings\":{\"columns\":{}},\"syncTimestamp\":1761633167004}",
       "filterBlob": null,
       "queryPlanFiltersBlob": null,
       "tableResultIndex": 0
      }
     },
     "title": ""
    }
   },
   "outputs": [],
   "source": [
    "------------------------------ TABLE FORMATION ------------------------------\n",
    "drop table if exists employees;\n",
    "\n",
    "CREATE TABLE employees  (employee_id int,employee_name varchar(15), email_id varchar(15) );\n",
    "delete from employees;\n",
    "INSERT INTO employees (employee_id,employee_name, email_id) VALUES ('101','Liam Alton', 'li.al@abc.com');\n",
    "INSERT INTO employees (employee_id,employee_name, email_id) VALUES ('102','Josh Day', 'jo.da@abc.com');\n",
    "INSERT INTO employees (employee_id,employee_name, email_id) VALUES ('103','Sean Mann', 'se.ma@abc.com'); \n",
    "INSERT INTO employees (employee_id,employee_name, email_id) VALUES ('104','Evan Blake', 'ev.bl@abc.com');\n",
    "INSERT INTO employees (employee_id,employee_name, email_id) VALUES ('105','Toby Scott', 'jo.da@abc.com');\n",
    "INSERT INTO employees (employee_id,employee_name, email_id) VALUES ('106','Anjali Chouhan', 'JO.DA@ABC.COM');\n",
    "INSERT INTO employees (employee_id,employee_name, email_id) VALUES ('107','Ankit Bansal', 'AN.BA@ABC.COM');\n",
    "\n",
    "ALTER TABLE employees\n",
    "ALTER COLUMN email_id VARCHAR(15) COLLATE SQL_Latin1_General_CP1_CS_AS;\n",
    "\n",
    "\n",
    "------------------------------------------------------------------------------------------\n",
    "\n",
    "/*\n",
    "Q1:\n",
    "In the above table data you can see there are 1 email is duplicate(102, 105, 106) but I want to fetch only lower case email into my output. In my output I am expecting only 102 and 105 emp_id.\n",
    "*/\n",
    "\n",
    "\n",
    "\n",
    "-- Ans1:\n",
    "-- Method 1: \n",
    "select email_id, count(1)\n",
    "from employees\n",
    "group by email_id\n",
    ";\n",
    "\n",
    "\n",
    "-- If the above method does not support, then try the below approach:\n",
    "with cte as (\n",
    "select *, ascii(email_id) as ascii_email,\n",
    "rank() over(partition by email_id order by ascii(email_id) desc) as rn\n",
    "from employees\n",
    ")\n",
    "select * from cte where rn=1;\n",
    "\n",
    "\n",
    "\n",
    "\n"
   ]
  }
 ],
 "metadata": {
  "application/vnd.databricks.v1+notebook": {
   "computePreferences": null,
   "dashboards": [],
   "environmentMetadata": null,
   "inputWidgetPreferences": null,
   "language": "sql",
   "notebookMetadata": {
    "sqlQueryOptions": {
     "applyAutoLimit": true,
     "catalog": "workspace",
     "schema": "default"
    }
   },
   "notebookName": "25. Accenture_Case_Insensitive_Employees.dbquery.ipynb",
   "widgets": {}
  },
  "language_info": {
   "name": "sql"
  }
 },
 "nbformat": 4,
 "nbformat_minor": 0
}

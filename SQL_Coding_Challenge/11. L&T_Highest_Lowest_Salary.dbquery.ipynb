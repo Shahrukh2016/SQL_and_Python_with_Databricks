{
 "cells": [
  {
   "cell_type": "code",
   "execution_count": 0,
   "metadata": {
    "application/vnd.databricks.v1+cell": {
     "cellMetadata": {
      "byteLimit": 10485760,
      "rowLimit": 1000
     },
     "inputWidgets": {},
     "nuid": "5edf881a-dcd1-4b40-82d1-4aaa1ba92b00",
     "showTitle": false,
     "tableResultSettingsMap": {
      "0": {
       "dataGridStateBlob": "{\"version\":1,\"tableState\":{\"columnPinning\":{\"left\":[\"#row_number#\"],\"right\":[]},\"columnSizing\":{},\"columnVisibility\":{}},\"settings\":{\"columns\":{}},\"syncTimestamp\":1759684764767}",
       "filterBlob": null,
       "queryPlanFiltersBlob": null,
       "tableResultIndex": 0
      }
     },
     "title": ""
    }
   },
   "outputs": [],
   "source": [
    "------------------------------ TABLE FORMATION ------------------------------\n",
    "drop table if exists employee;\n",
    "create table employee \n",
    "(\n",
    "  emp_name varchar(10),\n",
    "  dep_id int,\n",
    "  salary int\n",
    ");\n",
    "\n",
    "delete from employee;\n",
    "\n",
    "insert into employee values\n",
    "('Siva',1,30000),\n",
    "('Ravi',2,40000),\n",
    "('Prasad',1,50000),\n",
    "('Sai',2,20000),\n",
    "('Kiran',3,45000),\n",
    "('Anil',1,28000),\n",
    "('Deepa',2,55000),\n",
    "('Mohan',3,32000),\n",
    "('Raj',1,60000),\n",
    "('Sneha',2,47000),\n",
    "('Venu',3,38000),\n",
    "('Arun',1,52000),\n",
    "('Pooja',2,41000),\n",
    "('Nithin',3,25000),\n",
    "('Divya',1,70000),\n",
    "('Harsha',2,36000),\n",
    "('Ramesh',3,42000),\n",
    "('Kavya',1,48000),\n",
    "('Teja',2,53000),\n",
    "('Manoj',3,31000),\n",
    "('Lakshmi',1,29000),\n",
    "('Sanjay',2,60000),\n",
    "('Charan',3,34000),\n",
    "('Meena',1,46000),\n",
    "('Aravind',2,39000),\n",
    "('Priya',3,55000);\n",
    "\n",
    "------------------------------------------------------------------------------------------\n",
    "\n",
    "-- Q1: /* write a query to print highest and lowest salary emp in each deprtment ? */\n",
    "\n",
    "-- Ans:\n",
    "-- Method 1: Using case when , aggregation and join\n",
    "with cte as (\n",
    "select dep_id, max(salary) as max_salary, min(salary) as min_salary \n",
    "from employee\n",
    "group by dep_id\n",
    ")\n",
    "select e.dep_id,\n",
    "max(case when salary = max_salary then emp_name else null end) as max_sal_emp,\n",
    "max(case when salary = min_salary then emp_name else null end) as min_sal_emp\n",
    "from employee as e\n",
    "inner join cte\n",
    "using(dep_id)\n",
    "group by e.dep_id;\n",
    "\n",
    "-- Method 2: Using case when, agreegation and rank"
   ]
  }
 ],
 "metadata": {
  "application/vnd.databricks.v1+notebook": {
   "computePreferences": null,
   "dashboards": [],
   "environmentMetadata": null,
   "inputWidgetPreferences": null,
   "language": "sql",
   "notebookMetadata": {
    "pythonIndentUnit": 4,
    "sqlQueryOptions": {
     "applyAutoLimit": true,
     "catalog": "workspace",
     "schema": "default"
    }
   },
   "notebookName": "11. L&T_Highest_Lowest_Salary.dbquery.ipynb",
   "widgets": {}
  },
  "language_info": {
   "name": "sql"
  }
 },
 "nbformat": 4,
 "nbformat_minor": 0
}

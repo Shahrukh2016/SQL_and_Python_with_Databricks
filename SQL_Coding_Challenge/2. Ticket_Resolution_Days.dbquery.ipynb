{
 "cells": [
  {
   "cell_type": "code",
   "execution_count": 0,
   "metadata": {
    "application/vnd.databricks.v1+cell": {
     "cellMetadata": {
      "byteLimit": 10485760,
      "rowLimit": 64000
     },
     "inputWidgets": {},
     "nuid": "81dd2286-6b0f-493e-b9ea-2f824e14aff4",
     "showTitle": false,
     "tableResultSettingsMap": {},
     "title": ""
    }
   },
   "outputs": [],
   "source": [
    "------------------------------ TABLE FORMATION ------------------------------\n",
    "create table tickets\n",
    "(\n",
    "ticket_id varchar(10),\n",
    "create_date date,\n",
    "resolved_date date\n",
    ");\n",
    "delete from tickets;\n",
    "insert into tickets values\n",
    "(1,'2022-08-01','2022-08-03')\n",
    ",(2,'2022-08-01','2022-08-12')\n",
    ",(3,'2022-08-01','2022-08-16');\n",
    "create table holidays\n",
    "(\n",
    "holiday_date date\n",
    ",reason varchar(100)\n",
    ");\n",
    "delete from holidays;\n",
    "insert into holidays values\n",
    "('2022-08-11','Rakhi'),('2022-08-15','Independence day');\n",
    "\n",
    "------------------------------------------------------------------------------------------\n",
    "\n",
    "-- Q1: Write a query to identify the number of days taken to resolve the ticket excluding weekend.\n",
    "-- Ans:\n",
    "select *,\n",
    "datediff(day, create_date, resolved_date) as actual_days,\n",
    "datediff(day, create_date, resolved_date) - 2 * datediff(week, create_date, resolved_date) as business_days,\n",
    "(datediff(day, create_date, resolved_date) - 2 * datediff(week, create_date, resolved_date)\n",
    "- no_of_holiday) as days_to_resolve_excluding_weekends_and_holidays\n",
    "from (\n",
    "select ticket_id, create_date, resolved_date, count(holiday_date) as no_of_holiday\n",
    "from tickets\n",
    "left join holidays on holiday_date between create_date and resolved_date\n",
    "and dayofweek(holiday_date) not in (1, 7)\n",
    "group by ticket_id, create_date, resolved_date);\n"
   ]
  }
 ],
 "metadata": {
  "application/vnd.databricks.v1+notebook": {
   "computePreferences": null,
   "dashboards": [],
   "environmentMetadata": null,
   "inputWidgetPreferences": null,
   "language": "sql",
   "notebookMetadata": {
    "pythonIndentUnit": 4,
    "sqlQueryOptions": {
     "applyAutoLimit": false,
     "catalog": "workspace",
     "schema": "default"
    }
   },
   "notebookName": "2. Ticket_Resolution_Days.dbquery.ipynb",
   "widgets": {}
  },
  "language_info": {
   "name": "sql"
  }
 },
 "nbformat": 4,
 "nbformat_minor": 0
}

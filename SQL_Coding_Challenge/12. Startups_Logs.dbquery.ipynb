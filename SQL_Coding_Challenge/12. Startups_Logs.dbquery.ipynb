{
 "cells": [
  {
   "cell_type": "code",
   "execution_count": 0,
   "metadata": {
    "application/vnd.databricks.v1+cell": {
     "cellMetadata": {
      "byteLimit": 10485760,
      "rowLimit": 1000
     },
     "inputWidgets": {},
     "nuid": "c643d571-1712-4fbd-83a9-73555c02b527",
     "showTitle": false,
     "tableResultSettingsMap": {
      "0": {
       "dataGridStateBlob": "{\"version\":1,\"tableState\":{\"columnPinning\":{\"left\":[\"#row_number#\"],\"right\":[]},\"columnSizing\":{},\"columnVisibility\":{}},\"settings\":{\"columns\":{}},\"syncTimestamp\":1759736249052}",
       "filterBlob": null,
       "queryPlanFiltersBlob": null,
       "tableResultIndex": 0
      }
     },
     "title": ""
    }
   },
   "outputs": [],
   "source": [
    "------------------------------ TABLE FORMATION ------------------------------\n",
    "drop table if exists call_start_logs;\n",
    "drop table if exists call_end_logs;\n",
    "\n",
    "create table call_start_logs\n",
    "(\n",
    "phone_number varchar(10),\n",
    "start_time timestamp\n",
    ");\n",
    "insert into call_start_logs values\n",
    "('PN1','2022-01-01 10:20:00'),('PN1','2022-01-01 16:25:00'),('PN2','2022-01-01 12:30:00')\n",
    ",('PN3','2022-01-02 10:00:00'),('PN3','2022-01-02 12:30:00'),('PN3','2022-01-03 09:20:00');\n",
    "\n",
    "create table call_end_logs\n",
    "(\n",
    "phone_number varchar(10),\n",
    "end_time timestamp\n",
    ");\n",
    "insert into call_end_logs values\n",
    "('PN1','2022-01-01 10:45:00'),('PN1','2022-01-01 17:05:00'),('PN2','2022-01-01 12:55:00')\n",
    ",('PN3','2022-01-02 10:20:00'),('PN3','2022-01-02 12:50:00'),('PN3','2022-01-03 09:40:00');\n",
    "\n",
    "------------------------------------------------------------------------------------------\n",
    "\n",
    "-- Q1: /* write a query to get start time and end time of each call from below 2 tables. Also create a column of call duration in minutes. Please do take into account that there will be multiple calls from one phone number and each entry in start table has a corresponding entry in end table. */\n",
    "\n",
    "-- Ans:\n",
    "-- Method 1: Using Join and CTE\n",
    "with start_logs as (\n",
    "select *, row_number() over(partition by call_start_logs.phone_number order by start_time) as rn \n",
    "from call_start_logs\n",
    "),\n",
    "end_logs as (\n",
    "select *, row_number() over(partition by call_end_logs.phone_number order by end_time) as rn \n",
    "from call_end_logs\n",
    ")\n",
    "select start_logs.phone_number, start_logs.start_time, end_logs.end_time,   (\n",
    "    unix_timestamp(end_logs.end_time) - unix_timestamp(start_logs.start_time)\n",
    "  ) / 60 as call_duration_minutes\n",
    "from start_logs\n",
    "join end_logs\n",
    "on start_logs.phone_number = end_logs.phone_number and start_logs.rn = end_logs.rn;\n",
    "\n",
    "\n",
    "-- Method 2: Using Join and Sub Query:\n",
    "select A. phone_number, A.rn, A.start_time, B.end_time, (unix_timestamp(B.end_time) - unix_timestamp(A.start_time)) / 60 as call_duration_minutes\n",
    "from\n",
    "(select *, row_number() over (partition by phone_number order by start_time) as rn from call_start_logs) as A\n",
    "inner join\n",
    "(select*, row_number() over (partition by phone_number order by end_time) as rn from call_end_logs) as B\n",
    "on A.phone_number = B.phone_number and A.rn = B.rn;\n",
    "\n",
    "\n",
    "-- Method 2: Using Join and Sub Query:\n",
    "select phone_number, rn, min(call_time) as start_time, max(call_time) as end_time, (unix_timestamp(max(call_time)) - unix_timestamp(min(call_time))) / 60 as call_duration_minutes\n",
    "from\n",
    "(\n",
    "select phone_number, start_time as call_time, row_number() over (partition by phone_number order by start_time) as rn from call_start_logs\n",
    "union\n",
    "select *, row_number() over (partition by phone_number order by end_time) as rn from call_end_logs\n",
    ")\n",
    "group by phone_number, rn\n"
   ]
  }
 ],
 "metadata": {
  "application/vnd.databricks.v1+notebook": {
   "computePreferences": null,
   "dashboards": [],
   "environmentMetadata": null,
   "inputWidgetPreferences": null,
   "language": "sql",
   "notebookMetadata": {
    "pythonIndentUnit": 4,
    "sqlQueryOptions": {
     "applyAutoLimit": true,
     "catalog": "workspace",
     "schema": "default"
    }
   },
   "notebookName": "12. Startups_Logs.dbquery.ipynb",
   "widgets": {}
  },
  "language_info": {
   "name": "sql"
  }
 },
 "nbformat": 4,
 "nbformat_minor": 0
}

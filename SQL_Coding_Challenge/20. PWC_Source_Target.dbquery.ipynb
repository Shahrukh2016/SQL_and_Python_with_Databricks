{
 "cells": [
  {
   "cell_type": "code",
   "execution_count": 0,
   "metadata": {
    "application/vnd.databricks.v1+cell": {
     "cellMetadata": {
      "byteLimit": 10485760,
      "rowLimit": 1000
     },
     "inputWidgets": {},
     "nuid": "502ce70a-fcb4-4734-a987-f6d55cddd0dd",
     "showTitle": false,
     "tableResultSettingsMap": {},
     "title": ""
    }
   },
   "outputs": [],
   "source": [
    "------------------------------ TABLE FORMATION ------------------------------\n",
    "drop table if exists source;\n",
    "drop table if exists target;\n",
    "\n",
    "create table source(id int, name varchar(5));\n",
    "\n",
    "create table target(id int, name varchar(5));\n",
    "\n",
    "insert into source values(1,'A'),(2,'B'),(3,'C'),(4,'D');\n",
    "\n",
    "insert into target values(1,'A'),(2,'B'),(4,'X'),(5,'F');\n",
    "------------------------------------------------------------------------------------------\n",
    "\n",
    "/*\n",
    "Q1: \n",
    "We need the output that:\n",
    "- Does not contain common and matching element.\n",
    "- Contains 'New in Source' and 'New in Target' and 'Mismatch' records.\n",
    "*/\n",
    "\n",
    "-- Ans1:\n",
    "-- Method 1: Using FULL OUTER JOIN and CASE WHEN\n",
    "select * from source;\n",
    "select * from target;\n",
    "\n",
    "\n",
    "select coalesce(s.id, t.id) as id,\n",
    "CASE\n",
    "   when s.name is null then 'New in Target'\n",
    "   when t.name is null then 'New in Source'\n",
    "   when s.name != t.name then 'Mismatch'\n",
    "END as comment\n",
    "from source as s\n",
    "full outer join target as t\n",
    "on s.id = t.id\n",
    "where s.name != t.name or s.name is null or t.name is null;\n",
    "\n",
    "-- Method 1: Using UNION ALL and CTE\n",
    "select * from source;\n",
    "select * from target;\n",
    "\n",
    "with cte as (\n",
    "select *, 'source' as table_name from source\n",
    "union all\n",
    "select *, 'target' as table_name from target\n",
    ");"
   ]
  }
 ],
 "metadata": {
  "application/vnd.databricks.v1+notebook": {
   "computePreferences": null,
   "dashboards": [],
   "environmentMetadata": null,
   "inputWidgetPreferences": null,
   "language": "sql",
   "notebookMetadata": {
    "pythonIndentUnit": 4,
    "sqlQueryOptions": {
     "applyAutoLimit": true,
     "catalog": "workspace",
     "schema": "default"
    }
   },
   "notebookName": "20. PWC_Source_Target.dbquery.ipynb",
   "widgets": {}
  },
  "language_info": {
   "name": "sql"
  }
 },
 "nbformat": 4,
 "nbformat_minor": 0
}

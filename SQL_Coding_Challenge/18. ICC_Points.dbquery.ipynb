{
 "cells": [
  {
   "cell_type": "code",
   "execution_count": 0,
   "metadata": {
    "application/vnd.databricks.v1+cell": {
     "cellMetadata": {
      "byteLimit": 10485760,
      "rowLimit": 1000
     },
     "inputWidgets": {},
     "nuid": "79ff593b-c6a9-4705-8e7c-9f6c5d04dd11",
     "showTitle": false,
     "tableResultSettingsMap": {},
     "title": ""
    }
   },
   "outputs": [],
   "source": [
    "------------------------------ TABLE FORMATION ------------------------------\n",
    "drop table if exists icc_world_cup;\n",
    "create table icc_world_cup\n",
    "(\n",
    "match_no int,\n",
    "team_1 Varchar(20),\n",
    "team_2 Varchar(20),\n",
    "winner Varchar(20)\n",
    ");\n",
    "INSERT INTO icc_world_cup values(1,'ENG','NZ','NZ');\n",
    "INSERT INTO icc_world_cup values(2,'PAK','NED','PAK');\n",
    "INSERT INTO icc_world_cup values(3,'AFG','BAN','BAN');\n",
    "INSERT INTO icc_world_cup values(4,'SA','SL','SA');\n",
    "INSERT INTO icc_world_cup values(5,'AUS','IND','IND');\n",
    "INSERT INTO icc_world_cup values(6,'NZ','NED','NZ');\n",
    "INSERT INTO icc_world_cup values(7,'ENG','BAN','ENG');\n",
    "INSERT INTO icc_world_cup values(8,'SL','PAK','PAK');\n",
    "INSERT INTO icc_world_cup values(9,'AFG','IND','IND');\n",
    "INSERT INTO icc_world_cup values(10,'SA','AUS','SA');\n",
    "INSERT INTO icc_world_cup values(11,'BAN','NZ','NZ');\n",
    "INSERT INTO icc_world_cup values(12,'PAK','IND','IND');\n",
    "INSERT INTO icc_world_cup values(12,'SA','IND','DRAW');\n",
    "------------------------------------------------------------------------------------------\n",
    "\n",
    "/*\n",
    "Q1: \n",
    "\n",
    "*/\n",
    "\n",
    "-- Ans:\n",
    "-- Method 1: \n",
    "with all_matches as (\n",
    "select team_1, sum(matches_played) as matches_played \n",
    "from (\n",
    "select team_1, count(team_1) as matches_played \n",
    "from icc_world_cup\n",
    "group by team_1\n",
    "union all\n",
    "select team_2, count(team_2) as matches_played \n",
    "from icc_world_cup\n",
    "group by team_2\n",
    ")\n",
    "group by team_1\n",
    "),\n",
    "winners as\n",
    "(select winner, count(*) as wins from icc_world_cup group by winner)\n",
    "\n",
    "select am.team_1, am.matches_played, w.wins\n",
    "from all_matches as am\n",
    "left join winners as w\n",
    "on am.team_1 = w.winner;\n",
    "\n",
    "\n",
    "\n",
    "\n"
   ]
  }
 ],
 "metadata": {
  "application/vnd.databricks.v1+notebook": {
   "computePreferences": null,
   "dashboards": [],
   "environmentMetadata": null,
   "inputWidgetPreferences": null,
   "language": "sql",
   "notebookMetadata": {
    "pythonIndentUnit": 4,
    "sqlQueryOptions": {
     "applyAutoLimit": true,
     "catalog": "workspace",
     "schema": "default"
    }
   },
   "notebookName": "18. ICC_Points.dbquery.ipynb",
   "widgets": {}
  },
  "language_info": {
   "name": "sql"
  }
 },
 "nbformat": 4,
 "nbformat_minor": 0
}

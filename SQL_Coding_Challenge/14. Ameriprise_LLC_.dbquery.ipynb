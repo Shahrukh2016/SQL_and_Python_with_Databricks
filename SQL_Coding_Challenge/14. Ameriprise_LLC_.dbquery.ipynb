{
 "cells": [
  {
   "cell_type": "code",
   "execution_count": 0,
   "metadata": {
    "application/vnd.databricks.v1+cell": {
     "cellMetadata": {
      "byteLimit": 10485760,
      "rowLimit": 64000
     },
     "inputWidgets": {},
     "nuid": "cfbeeaf0-7e6d-4853-b0b8-c7c07c8b6e39",
     "showTitle": false,
     "tableResultSettingsMap": {},
     "title": ""
    }
   },
   "outputs": [],
   "source": [
    "------------------------------ TABLE FORMATION ------------------------------\n",
    "drop table if exists Ameriprise_LLC;\n",
    "\n",
    "create table Ameriprise_LLC\n",
    "(\n",
    "teamID varchar(2),\n",
    "memberID varchar(10),\n",
    "Criteria1 varchar(1),\n",
    "Criteria2 varchar(1)\n",
    ");\n",
    "insert into Ameriprise_LLC values \n",
    "('T1','T1_mbr1','Y','Y'),\n",
    "('T1','T1_mbr2','Y','Y'),\n",
    "('T1','T1_mbr3','Y','Y'),\n",
    "('T1','T1_mbr4','Y','Y'),\n",
    "('T1','T1_mbr5','Y','N'),\n",
    "('T2','T2_mbr1','Y','Y'),\n",
    "('T2','T2_mbr2','Y','N'),\n",
    "('T2','T2_mbr3','N','Y'),\n",
    "('T2','T2_mbr4','N','N'),\n",
    "('T2','T2_mbr5','N','N'),\n",
    "('T3','T3_mbr1','Y','Y'),\n",
    "('T3','T3_mbr2','Y','Y'),\n",
    "('T3','T3_mbr3','N','Y'),\n",
    "('T3','T3_mbr4','N','Y'),\n",
    "('T3','T3_mbr5','Y','N');\n",
    "\n",
    "------------------------------------------------------------------------------------------\n",
    "\n",
    "-- Q1: /* - Condition, if Criteria1 and Criteria2 both are Y and a minimum of 2 team members, should have y then the output should be Y else N */\n",
    "\n",
    "-- Ans:\n",
    "-- Method 1: Using\n",
    "select *,\n",
    "CASE\n",
    "when criteria1 = 'Y' and criteria2 = 'Y' then 'Y'\n",
    "else 'N'\n",
    "END as if_team_qualify\n",
    "from Ameriprise_LLC;\n",
    "\n",
    "with qualified as (\n",
    "select teamID, count(1) as no_of_eligible_members\n",
    "from Ameriprise_LLC\n",
    "where Criteria1 = 'Y' and Criteria2 = 'Y'\n",
    "group by teamID\n",
    "having count(1) >= 2\n",
    ")\n",
    "select * from ameriprise_llc\n",
    "where teamID in (select teamID from qualified)\n",
    "\n",
    "\n"
   ]
  }
 ],
 "metadata": {
  "application/vnd.databricks.v1+notebook": {
   "computePreferences": null,
   "dashboards": [],
   "environmentMetadata": null,
   "inputWidgetPreferences": null,
   "language": "sql",
   "notebookMetadata": {
    "pythonIndentUnit": 4,
    "sqlQueryOptions": {
     "applyAutoLimit": false,
     "catalog": "workspace",
     "schema": "default"
    }
   },
   "notebookName": "14. Ameriprise_LLC_.dbquery.ipynb",
   "widgets": {}
  },
  "language_info": {
   "name": "sql"
  }
 },
 "nbformat": 4,
 "nbformat_minor": 0
}

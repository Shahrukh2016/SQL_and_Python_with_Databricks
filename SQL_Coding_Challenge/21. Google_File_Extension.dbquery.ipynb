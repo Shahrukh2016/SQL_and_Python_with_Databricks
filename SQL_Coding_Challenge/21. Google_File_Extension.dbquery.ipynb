{
 "cells": [
  {
   "cell_type": "code",
   "execution_count": 0,
   "metadata": {
    "application/vnd.databricks.v1+cell": {
     "cellMetadata": {
      "byteLimit": 10485760,
      "rowLimit": 1000
     },
     "inputWidgets": {},
     "nuid": "5db80ea3-c332-45e0-b225-8f30571ac6b6",
     "showTitle": false,
     "tableResultSettingsMap": {},
     "title": ""
    }
   },
   "outputs": [],
   "source": [
    "------------------------------ TABLE FORMATION ------------------------------\n",
    "drop table if exists namaste_python;\n",
    "\n",
    "create table namaste_python (\n",
    "file_name varchar(25),\n",
    "content varchar(200)\n",
    ");\n",
    "\n",
    "insert into namaste_python values \n",
    "('python bootcamp1.txt','python for data analytics 0 to hero bootcamp starting on Jan 6th')\n",
    ",('python bootcamp2.txt','classes will be held on weekends from 11am to 1 pm for 5-6 weeks')\n",
    ",('python bootcamp3.txt','use code NY2024 to get 33 percent off. You can register from namaste sql website. Link in pinned comment');\n",
    "\n",
    "------------------------------------------------------------------------------------------\n",
    "\n",
    "/*\n",
    "Q1: \n",
    "Find the words which are repeating more than once considering all the rows of content column\n",
    "*/\n",
    "\n",
    "-- Ans1:\n",
    "-- Method 1: Using CTE, Explode and Split.\n",
    "select * from namaste_python;\n",
    "\n",
    "with cte as\n",
    "(\n",
    "select explode(split(content, ' ')) as splitted_words \n",
    "from namaste_python\n",
    ")\n",
    "select splitted_words, count(1) as words_freq\n",
    "from cte\n",
    "group by 1\n",
    "having count(1) > 1\n",
    "order by 2 desc;"
   ]
  }
 ],
 "metadata": {
  "application/vnd.databricks.v1+notebook": {
   "computePreferences": null,
   "dashboards": [],
   "environmentMetadata": null,
   "inputWidgetPreferences": null,
   "language": "sql",
   "notebookMetadata": {
    "pythonIndentUnit": 4,
    "sqlQueryOptions": {
     "applyAutoLimit": true,
     "catalog": "workspace",
     "schema": "default"
    }
   },
   "notebookName": "21. Google_File_Extension.dbquery.ipynb",
   "widgets": {}
  },
  "language_info": {
   "name": "sql"
  }
 },
 "nbformat": 4,
 "nbformat_minor": 0
}

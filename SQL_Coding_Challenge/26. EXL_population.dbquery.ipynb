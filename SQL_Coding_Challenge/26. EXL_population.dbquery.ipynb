{
 "cells": [
  {
   "cell_type": "code",
   "execution_count": 0,
   "metadata": {
    "application/vnd.databricks.v1+cell": {
     "cellMetadata": {
      "byteLimit": 10485760,
      "rowLimit": 1000
     },
     "inputWidgets": {},
     "nuid": "f70d3a99-2fb9-4fbf-9271-77d9f2fdbc46",
     "showTitle": false,
     "tableResultSettingsMap": {},
     "title": ""
    }
   },
   "outputs": [],
   "source": [
    "------------------------------ TABLE FORMATION ------------------------------\n",
    "drop table if exists city_population;\n",
    "\n",
    "CREATE TABLE city_population (\n",
    "    state VARCHAR(50),\n",
    "    city VARCHAR(50),\n",
    "    population INT\n",
    ");\n",
    "\n",
    "-- Insert the data\n",
    "INSERT INTO city_population (state, city, population) VALUES ('haryana', 'ambala', 100);\n",
    "INSERT INTO city_population (state, city, population) VALUES ('haryana', 'panipat', 200);\n",
    "INSERT INTO city_population (state, city, population) VALUES ('haryana', 'gurgaon', 300);\n",
    "INSERT INTO city_population (state, city, population) VALUES ('punjab', 'amritsar', 150);\n",
    "INSERT INTO city_population (state, city, population) VALUES ('punjab', 'ludhiana', 400);\n",
    "INSERT INTO city_population (state, city, population) VALUES ('punjab', 'jalandhar', 250);\n",
    "INSERT INTO city_population (state, city, population) VALUES ('maharashtra', 'mumbai', 1000);\n",
    "INSERT INTO city_population (state, city, population) VALUES ('maharashtra', 'pune', 600);\n",
    "INSERT INTO city_population (state, city, population) VALUES ('maharashtra', 'nagpur', 300);\n",
    "INSERT INTO city_population (state, city, population) VALUES ('karnataka', 'bangalore', 900);\n",
    "INSERT INTO city_population (state, city, population) VALUES ('karnataka', 'mysore', 400);\n",
    "INSERT INTO city_population (state, city, population) VALUES ('karnataka', 'mangalore', 200);\n",
    "\n",
    "------------------------------------------------------------------------------------------\n",
    "\n",
    "/*\n",
    "Q1:\n",
    "From the table above find the highest and lowest populated state.\n",
    "*/\n",
    "\n",
    "-- Ans1:\n",
    "-- Method 1: Using CASE WHEN\n",
    "select * from city_population;\n",
    "\n",
    "select city,\n",
    "\n",
    "case\n",
    "  when\n",
    "end as max_population,\n",
    "\n",
    "\n",
    "case\n",
    "  when\n",
    "end as max_population\n",
    "\n",
    "from city_population\n",
    "\n",
    "\n",
    "\n",
    "-- Method 2: Using Windows Function\n",
    "select *,\n",
    "max\n",
    "\n",
    "\n",
    "\n",
    "\n",
    "\n",
    "\n",
    "\n",
    "\n",
    "\n",
    "\n",
    "\n"
   ]
  }
 ],
 "metadata": {
  "application/vnd.databricks.v1+notebook": {
   "computePreferences": null,
   "dashboards": [],
   "environmentMetadata": null,
   "inputWidgetPreferences": null,
   "language": "sql",
   "notebookMetadata": {
    "pythonIndentUnit": 4,
    "sqlQueryOptions": {
     "applyAutoLimit": true,
     "catalog": "workspace",
     "schema": "default"
    }
   },
   "notebookName": "26. EXL_population.dbquery.ipynb",
   "widgets": {}
  },
  "language_info": {
   "name": "sql"
  }
 },
 "nbformat": 4,
 "nbformat_minor": 0
}

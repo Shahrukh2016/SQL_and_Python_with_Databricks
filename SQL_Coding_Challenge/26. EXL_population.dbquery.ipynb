{
 "cells": [
  {
   "cell_type": "code",
   "execution_count": 0,
   "metadata": {
    "application/vnd.databricks.v1+cell": {
     "cellMetadata": {
      "byteLimit": 10485760,
      "rowLimit": 1000
     },
     "inputWidgets": {},
     "nuid": "f70d3a99-2fb9-4fbf-9271-77d9f2fdbc46",
     "showTitle": false,
     "tableResultSettingsMap": {
      "0": {
       "dataGridStateBlob": "{\"version\":1,\"tableState\":{\"columnPinning\":{\"left\":[\"#row_number#\"],\"right\":[]},\"columnSizing\":{},\"columnVisibility\":{}},\"settings\":{\"columns\":{}},\"syncTimestamp\":1761932748466}",
       "filterBlob": null,
       "queryPlanFiltersBlob": null,
       "tableResultIndex": 0
      }
     },
     "title": ""
    }
   },
   "outputs": [],
   "source": [
    "------------------------------ TABLE FORMATION ------------------------------\n",
    "drop table if exists city_population;\n",
    "\n",
    "CREATE TABLE city_population (\n",
    "    state VARCHAR(50),\n",
    "    city VARCHAR(50),\n",
    "    population INT\n",
    ");\n",
    "\n",
    "-- Insert the data\n",
    "INSERT INTO city_population (state, city, population) VALUES ('haryana', 'ambala', 100);\n",
    "INSERT INTO city_population (state, city, population) VALUES ('haryana', 'panipat', 200);\n",
    "INSERT INTO city_population (state, city, population) VALUES ('haryana', 'gurgaon', 300);\n",
    "INSERT INTO city_population (state, city, population) VALUES ('punjab', 'amritsar', 150);\n",
    "INSERT INTO city_population (state, city, population) VALUES ('punjab', 'ludhiana', 400);\n",
    "INSERT INTO city_population (state, city, population) VALUES ('punjab', 'jalandhar', 250);\n",
    "INSERT INTO city_population (state, city, population) VALUES ('maharashtra', 'mumbai', 1000);\n",
    "INSERT INTO city_population (state, city, population) VALUES ('maharashtra', 'pune', 600);\n",
    "INSERT INTO city_population (state, city, population) VALUES ('maharashtra', 'nagpur', 300);\n",
    "INSERT INTO city_population (state, city, population) VALUES ('karnataka', 'bangalore', 900);\n",
    "INSERT INTO city_population (state, city, population) VALUES ('karnataka', 'mysore', 400);\n",
    "INSERT INTO city_population (state, city, population) VALUES ('karnataka', 'mangalore', 200);\n",
    "\n",
    "------------------------------------------------------------------------------------------\n",
    "\n",
    "/*\n",
    "Q1:\n",
    "From the table above find the highest and lowest populated state.\n",
    "*/\n",
    "\n",
    "-- Ans1:\n",
    "-- Method 1: Using CASE WHEN\n",
    "select * from city_population;\n",
    "\n",
    "with cte as (\n",
    "select *,\n",
    "max(population) over(partition by state) as max_pop,\n",
    "min(population) over(partition by state) as min_pop\n",
    "from city_population\n",
    ")\n",
    "select state,\n",
    "max(\n",
    "case\n",
    "  when population = max_pop then city \n",
    "end) as highest_populated_city,\n",
    "max(\n",
    "case\n",
    "  when population = min_pop then city\n",
    "end) as lowest_populated_city\n",
    "from cte\n",
    "group by state;\n",
    "\n",
    "\n",
    "-- Method 2: Using Windows Function\n",
    "with cte as (\n",
    "select *,\n",
    "row_number() over(partition by state order by population desc) as rank_desc,\n",
    "row_number() over(partition by state order by population asc) as rank_asc\n",
    "from city_population\n",
    ")\n",
    "select state,\n",
    "max(\n",
    "case\n",
    "  when rank_desc = 1 then city \n",
    "end) as highest_populated_city,\n",
    "max(\n",
    "case\n",
    "  when rank_asc = 1 then city\n",
    "end) as lowest_populated_city\n",
    "from cte\n",
    "group by state;\n",
    "\n",
    "\n",
    "\n",
    "\n",
    "\n",
    "\n",
    "\n",
    "\n",
    "\n",
    "\n",
    "\n"
   ]
  }
 ],
 "metadata": {
  "application/vnd.databricks.v1+notebook": {
   "computePreferences": null,
   "dashboards": [],
   "environmentMetadata": null,
   "inputWidgetPreferences": null,
   "language": "sql",
   "notebookMetadata": {
    "pythonIndentUnit": 4,
    "sqlQueryOptions": {
     "applyAutoLimit": true,
     "catalog": "workspace",
     "schema": "default"
    }
   },
   "notebookName": "26. EXL_population.dbquery.ipynb",
   "widgets": {}
  },
  "language_info": {
   "name": "sql"
  }
 },
 "nbformat": 4,
 "nbformat_minor": 0
}

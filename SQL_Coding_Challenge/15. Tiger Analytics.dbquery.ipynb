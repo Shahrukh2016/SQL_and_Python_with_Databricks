{
 "cells": [
  {
   "cell_type": "code",
   "execution_count": 0,
   "metadata": {
    "application/vnd.databricks.v1+cell": {
     "cellMetadata": {
      "byteLimit": 10485760,
      "rowLimit": 1000
     },
     "inputWidgets": {},
     "nuid": "f21b2347-cbdf-4549-8d11-5913b356cb1a",
     "showTitle": false,
     "tableResultSettingsMap": {},
     "title": ""
    }
   },
   "outputs": [],
   "source": [
    "------------------------------ TABLE FORMATION ------------------------------\n",
    "drop table if exists family;\n",
    "\n",
    "create table family \n",
    "(\n",
    "person varchar(5),\n",
    "type varchar(10),\n",
    "age int\n",
    ");\n",
    "delete from family ;\n",
    "insert into family values ('A1','Adult',54)\n",
    ",('A2','Adult',53),('A3','Adult',52),('A4','Adult',58),('A5','Adult',54),('C1','Child',20),('C2','Child',19),('C3','Child',22),('C4','Child',15);\n",
    "\n",
    "\n",
    "------------------------------------------------------------------------------------------\n",
    "\n",
    "-- Q1: /* Person and type is the colum names and it is the input table. We need output as pair table, like these are adult and child in the table and they are going for a fair and they have a ride on some jhoola, so one adult can go with one child and in last one adult will be alone */\n",
    "\n",
    "-- Ans:\n",
    "-- Method 1: Using JOIN\n",
    "with adult as \n",
    "(select * from family where type = 'Adult'),\n",
    "child as \n",
    "(select * from family where type = 'Child')\n",
    "select a.person as adult, c.person as child\n",
    "from adult as a \n",
    "left join child as c\n",
    "on right(a.person,1) = right(c.person,1);\n",
    "\n",
    "-- Method 2: Using JOIN and ROW_NUMBER\n",
    "select * from family;\n",
    "\n",
    "with adult as \n",
    "(select *, row_number() over(order by person) as rn from family where type = 'Adult'),\n",
    "child as \n",
    "(select *, row_number() over(order by person) as rn from family where type = 'Child')\n",
    "select a.person as adult, c.person as child\n",
    "from adult as a \n",
    "left join child as c\n",
    "on c.rn = a.rn;\n",
    "\n",
    "-- Q2: /* Now there is one more ask where the eldest member will go with the youngest one and so on. */\n",
    "-- Ans:\n",
    "with adult as \n",
    "(select *, row_number() over(order by age desc) as rn from family where type = 'Adult'),\n",
    "child as \n",
    "(select *, row_number() over(order by age asc) as rn from family where type = 'Child')\n",
    "select a.person , a.age,  c.person, c.age\n",
    "from adult as a \n",
    "left join child as c\n",
    "on c.rn = a.rn;\n",
    "\n"
   ]
  }
 ],
 "metadata": {
  "application/vnd.databricks.v1+notebook": {
   "computePreferences": null,
   "dashboards": [],
   "environmentMetadata": null,
   "inputWidgetPreferences": null,
   "language": "sql",
   "notebookMetadata": {
    "pythonIndentUnit": 4,
    "sqlQueryOptions": {
     "applyAutoLimit": true,
     "catalog": "workspace",
     "schema": "default"
    }
   },
   "notebookName": "15. Tiger Analytics.dbquery.ipynb",
   "widgets": {}
  },
  "language_info": {
   "name": "sql"
  }
 },
 "nbformat": 4,
 "nbformat_minor": 0
}

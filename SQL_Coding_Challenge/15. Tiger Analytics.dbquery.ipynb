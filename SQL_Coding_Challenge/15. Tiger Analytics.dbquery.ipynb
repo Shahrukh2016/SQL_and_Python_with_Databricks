{
 "cells": [
  {
   "cell_type": "code",
   "execution_count": 0,
   "metadata": {
    "application/vnd.databricks.v1+cell": {
     "cellMetadata": {
      "byteLimit": 10485760,
      "rowLimit": 1000
     },
     "inputWidgets": {},
     "nuid": "f21b2347-cbdf-4549-8d11-5913b356cb1a",
     "showTitle": false,
     "tableResultSettingsMap": {},
     "title": ""
    }
   },
   "outputs": [],
   "source": [
    "------------------------------ TABLE FORMATION ------------------------------\n",
    "drop table if exists family;\n",
    "\n",
    "create table family \n",
    "(\n",
    "person varchar(5),\n",
    "type varchar(10),\n",
    "age int\n",
    ");\n",
    "delete from family ;\n",
    "insert into family values ('A1','Adult',54)\n",
    ",('A2','Adult',53),('A3','Adult',52),('A4','Adult',58),('A5','Adult',54),('C1','Child',20),('C2','Child',19),('C3','Child',22),('C4','Child',15);\n",
    "\n",
    "\n",
    "------------------------------------------------------------------------------------------\n",
    "\n",
    "-- Q1: /* Person and type is the colum names and it is the input table We need cutput as pair table::\n",
    "-- Like these are adult and child in the table and they are going for a fair and they have a ride on some jhoola, so one adult can go with one child and in last me adult will be alone\n",
    "-- Any solution for this question. */\n",
    "\n",
    "-- Ans:\n",
    "-- Method 1: Using\n",
    "select * from family;\n",
    "\n",
    "\n",
    "\n"
   ]
  }
 ],
 "metadata": {
  "application/vnd.databricks.v1+notebook": {
   "computePreferences": null,
   "dashboards": [],
   "environmentMetadata": null,
   "inputWidgetPreferences": null,
   "language": "sql",
   "notebookMetadata": {
    "pythonIndentUnit": 4,
    "sqlQueryOptions": {
     "applyAutoLimit": true,
     "catalog": "workspace",
     "schema": "default"
    }
   },
   "notebookName": "15. Tiger Analytics.dbquery.ipynb",
   "widgets": {}
  },
  "language_info": {
   "name": "sql"
  }
 },
 "nbformat": 4,
 "nbformat_minor": 0
}

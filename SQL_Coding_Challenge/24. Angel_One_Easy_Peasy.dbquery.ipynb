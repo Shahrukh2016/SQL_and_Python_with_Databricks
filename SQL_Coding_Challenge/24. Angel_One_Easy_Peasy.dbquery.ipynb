{
 "cells": [
  {
   "cell_type": "code",
   "execution_count": 0,
   "metadata": {
    "application/vnd.databricks.v1+cell": {
     "cellMetadata": {
      "byteLimit": 10485760,
      "rowLimit": 1000
     },
     "inputWidgets": {},
     "nuid": "953ec2df-5fe7-43fb-99b7-982bbf07a8b1",
     "showTitle": false,
     "tableResultSettingsMap": {},
     "title": ""
    }
   },
   "outputs": [],
   "source": [
    "------------------------------ TABLE FORMATION ------------------------------\n",
    "drop table if exists tickets;\n",
    "\n",
    "CREATE TABLE tickets (\n",
    "    airline_number VARCHAR(10),\n",
    "    origin VARCHAR(3),\n",
    "    destination VARCHAR(3),\n",
    "    oneway_round CHAR(1),\n",
    "    ticket_count INT\n",
    ");\n",
    "\n",
    "\n",
    "INSERT INTO tickets (airline_number, origin, destination, oneway_round, ticket_count)\n",
    "VALUES\n",
    "    ('DEF456', 'BOM', 'DEL', 'O', 150),\n",
    "    ('GHI789', 'DEL', 'BOM', 'R', 50),\n",
    "    ('JKL012', 'BOM', 'DEL', 'R', 75),\n",
    "    ('MNO345', 'DEL', 'NYC', 'O', 200),\n",
    "    ('PQR678', 'NYC', 'DEL', 'O', 180),\n",
    "    ('STU901', 'NYC', 'DEL', 'R', 60),\n",
    "    ('ABC123', 'DEL', 'BOM', 'O', 100),\n",
    "    ('VWX234', 'DEL', 'NYC', 'R', 90);\n",
    "\n",
    "\n",
    "------------------------------------------------------------------------------------------\n",
    "\n",
    "/*\n",
    "Q1:\n",
    "Write a query to find busiest route along with total ticket count\n",
    "oneway_round ='0' > One Way Trip\n",
    "oneway_round 'R' -> Round Trip\n",
    "Note: DEL -> BOM is different route from BOM DEL\n",
    "*/\n",
    "\n",
    "\n",
    "\n",
    "-- Ans1:\n",
    "-- Method 1: \n",
    "select * from tickets;\n",
    "\n",
    "with cte as (\n",
    "select 1, origin, destination, oneway_round, ticket_count from tickets\n",
    "union all \n",
    "select 2, destination, origin, oneway_round, ticket_count from tickets\n",
    "where oneway_round = 'R'\n",
    ")\n",
    "select origin, destination, sum(ticket_count) as total_ticket_count \n",
    "from cte \n",
    "group by origin, destination \n",
    "order by total_ticket_count desc;\n",
    "\n",
    "\n",
    "\n"
   ]
  }
 ],
 "metadata": {
  "application/vnd.databricks.v1+notebook": {
   "computePreferences": null,
   "dashboards": [],
   "environmentMetadata": null,
   "inputWidgetPreferences": null,
   "language": "sql",
   "notebookMetadata": {
    "sqlQueryOptions": {
     "applyAutoLimit": true,
     "catalog": "workspace",
     "schema": "default"
    }
   },
   "notebookName": "24. Angel_One_Easy_Peasy.dbquery.ipynb",
   "widgets": {}
  },
  "language_info": {
   "name": "sql"
  }
 },
 "nbformat": 4,
 "nbformat_minor": 0
}

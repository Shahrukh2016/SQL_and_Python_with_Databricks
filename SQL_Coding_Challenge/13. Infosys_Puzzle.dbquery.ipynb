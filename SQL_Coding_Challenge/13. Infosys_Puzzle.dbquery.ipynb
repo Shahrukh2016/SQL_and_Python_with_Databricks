{
 "cells": [
  {
   "cell_type": "code",
   "execution_count": 0,
   "metadata": {
    "application/vnd.databricks.v1+cell": {
     "cellMetadata": {
      "byteLimit": 10485760,
      "rowLimit": 1000
     },
     "inputWidgets": {},
     "nuid": "d4e89dca-3327-47d9-a4da-76d4430b25ff",
     "showTitle": false,
     "tableResultSettingsMap": {},
     "title": ""
    }
   },
   "outputs": [],
   "source": [
    "------------------------------ TABLE FORMATION ------------------------------\n",
    "drop table if exists input;\n",
    "\n",
    "create table input (\n",
    "id int,\n",
    "formula varchar(10),\n",
    "value int\n",
    ");\n",
    "insert into input values (1,'1+4',10),(2,'2+1',5),(3,'3-2',40),(4,'4-1',20);\n",
    "\n",
    "------------------------------------------------------------------------------------------\n",
    "\n",
    "-- Q1: /* Evaluate the formula based o ID */\n",
    "\n",
    "-- Ans:\n",
    "-- Method 1: Using\n",
    "with cte as (\n",
    "select *,\n",
    "  left(formula, 1) as num1,\n",
    "  right(formula,1) as num2,\n",
    "  substr(formula, 2, 1) as operator\n",
    "from input\n",
    ")\n",
    "\n",
    "select cte1.id, cte1.operator, cte2.id, cte1.value, cte2.value,\n",
    "case\n",
    "  when cte1.operator = '+' then cte1.value + cte2.value\n",
    "  when cte1.operator = '-' then cte1.value - cte2.value\n",
    "end as eval\n",
    "from cte as cte1\n",
    "join cte as cte2\n",
    "on cte1.id = cte2.num2\n",
    "\n",
    "\n",
    "\n",
    "\n"
   ]
  }
 ],
 "metadata": {
  "application/vnd.databricks.v1+notebook": {
   "computePreferences": null,
   "dashboards": [],
   "environmentMetadata": null,
   "inputWidgetPreferences": null,
   "language": "sql",
   "notebookMetadata": {
    "pythonIndentUnit": 4,
    "sqlQueryOptions": {
     "applyAutoLimit": true,
     "catalog": "workspace",
     "schema": "default"
    }
   },
   "notebookName": "13. Infosys_Puzzle.dbquery.ipynb",
   "widgets": {}
  },
  "language_info": {
   "name": "sql"
  }
 },
 "nbformat": 4,
 "nbformat_minor": 0
}

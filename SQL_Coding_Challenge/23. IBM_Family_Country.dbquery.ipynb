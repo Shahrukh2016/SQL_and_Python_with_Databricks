{
 "cells": [
  {
   "cell_type": "code",
   "execution_count": 0,
   "metadata": {
    "application/vnd.databricks.v1+cell": {
     "cellMetadata": {
      "byteLimit": 10485760,
      "rowLimit": 1000
     },
     "inputWidgets": {},
     "nuid": "e05317c1-b6bd-4983-b9d7-c6fe55b48905",
     "showTitle": false,
     "tableResultSettingsMap": {},
     "title": ""
    }
   },
   "outputs": [],
   "source": [
    "------------------------------ TABLE FORMATION ------------------------------\n",
    "drop table if exists FAMILIES;\n",
    "drop table if exists COUNTRIES;\n",
    "\n",
    "CREATE TABLE FAMILIES (\n",
    "    ID VARCHAR(50),\n",
    "    NAME VARCHAR(50),\n",
    "    FAMILY_SIZE INT\n",
    ");\n",
    "\n",
    "-- Insert data into FAMILIES table\n",
    "INSERT INTO FAMILIES (ID, NAME, FAMILY_SIZE)\n",
    "VALUES \n",
    "    ('c00dac11bde74750b4d207b9c182a85f', 'Alex Thomas', 9),\n",
    "    ('eb6f2d3426694667ae3e79d6274114a4', 'Chris Gray', 2),\n",
    "  ('3f7b5b8e835d4e1c8b3e12e964a741f3', 'Emily Johnson', 4),\n",
    "    ('9a345b079d9f4d3cafb2d4c11d20f8ce', 'Michael Brown', 6),\n",
    "    ('e0a5f57516024de2a231d09de2cbe9d1', 'Jessica Wilson', 3);\n",
    "\n",
    "-- Create COUNTRIES table\n",
    "CREATE TABLE COUNTRIES (\n",
    "    ID VARCHAR(50),\n",
    "    NAME VARCHAR(50),\n",
    "    MIN_SIZE INT,\n",
    " MAX_SIZE INT\n",
    ");\n",
    "\n",
    "INSERT INTO COUNTRIES (ID, NAME, MIN_SIZE,MAX_SIZE)\n",
    "VALUES \n",
    "    ('023fd23615bd4ff4b2ae0a13ed7efec9', 'Bolivia', 2 , 4),\n",
    "    ('be247f73de0f4b2d810367cb26941fb9', 'Cook Islands', 4,8),\n",
    "    ('3e85ab80a6f84ef3b9068b21dbcc54b3', 'Brazil', 4,7),\n",
    "    ('e571e164152c4f7c8413e2734f67b146', 'Australia', 5,9),\n",
    "    ('f35a7bb7d44342f7a8a42a53115294a8', 'Canada', 3,5),\n",
    "    ('a1b5a4b5fc5f46f891d9040566a78f27', 'Japan', 10,12);\n",
    "\n",
    "------------------------------------------------------------------------------------------\n",
    "\n",
    "/*\n",
    "\n",
    "Q1:\n",
    "A travel and tour company has 2 tables that relate to customers: FAMILIES and COUNTRIES. Each tour offers a discount if a minimum number of people book at the same time.\n",
    "Write a query to print the maximum number of discounted tours any 1 family in the FAMILIES table can choose from.\n",
    "\n",
    "*/\n",
    "\n",
    "\n",
    "\n",
    "-- Ans1:\n",
    "-- Method 1: \n",
    "select * from families;\n",
    "select * from countries;\n",
    "\n"
   ]
  }
 ],
 "metadata": {
  "application/vnd.databricks.v1+notebook": {
   "computePreferences": null,
   "dashboards": [],
   "environmentMetadata": null,
   "inputWidgetPreferences": null,
   "language": "sql",
   "notebookMetadata": {
    "pythonIndentUnit": 4,
    "sqlQueryOptions": {
     "applyAutoLimit": true,
     "catalog": "workspace",
     "schema": "default"
    }
   },
   "notebookName": "23. IBM_Family_Country.dbquery.ipynb",
   "widgets": {}
  },
  "language_info": {
   "name": "sql"
  }
 },
 "nbformat": 4,
 "nbformat_minor": 0
}

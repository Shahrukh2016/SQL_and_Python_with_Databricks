{
 "cells": [
  {
   "cell_type": "code",
   "execution_count": 0,
   "metadata": {
    "application/vnd.databricks.v1+cell": {
     "cellMetadata": {
      "byteLimit": 10485760,
      "rowLimit": 1000
     },
     "inputWidgets": {},
     "nuid": "00ff50c5-4d8d-4e68-8927-c9a903440b31",
     "showTitle": false,
     "tableResultSettingsMap": {},
     "title": ""
    }
   },
   "outputs": [],
   "source": [
    "------------------------------ TABLE FORMATION ------------------------------\n",
    "drop table if exists company_revenue; \n",
    "\n",
    "create table company_revenue \n",
    "(\n",
    "company varchar(100),\n",
    "year int,\n",
    "revenue int\n",
    ");\n",
    "\n",
    "insert into company_revenue values \n",
    "('ABC1',2000,100),('ABC1',2001,110),('ABC1',2002,120),('ABC2',2000,100),('ABC2',2001,90),('ABC2',2002,120)\n",
    ",('ABC3',2000,500),('ABC3',2001,400),('ABC3',2002,600),('ABC3',2003,800);\n",
    "\n",
    "\n",
    "------------------------------------------------------------------------------------------\n",
    "\n",
    "/*\n",
    "Q1: \n",
    "Find the company only whose revenue is increasing increasing every year. \n",
    "Note: Suppose a company revenue is increasing for 3 years and a very next year revenue is dipped in that case it should not come in output \n",
    "*/\n",
    "\n",
    "-- Ans:\n",
    "-- Method 1: Using Lag and calculating the difference between current and previous year revenue\n",
    "with cte as (\n",
    "select *,\n",
    "lag(revenue,1,0) over(partition by company order by year) as prev_revenue,\n",
    "(revenue - lag(revenue,1,0) over(partition by company order by year)) as revenue_diff,\n",
    "count(company) over(partition by company) as cnt\n",
    "from company_revenue\n",
    ")\n",
    "select company, cnt, count(company) as inc_sales_yrs\n",
    "from cte\n",
    "where revenue_diff > 0\n",
    "group by company, cnt\n",
    "having cnt = inc_sales_yrs;\n",
    "\n",
    "-- Method 2: Using lag and not in.\n",
    "with cte as (\n",
    "select *,\n",
    "lag(revenue,1,0) over(partition by company order by year) as prev_revenue,\n",
    "(revenue - lag(revenue,1,0) over(partition by company order by year)) as revenue_diff,\n",
    "count(company) over(partition by company) as cnt\n",
    "from company_revenue\n",
    ")\n",
    "select distinct company\n",
    "from cte\n",
    "where company not in (select company from cte where revenue_diff < 0);\n",
    "\n",
    "\n",
    "\n",
    "\n",
    "\n",
    "\n",
    "\n",
    "\n",
    "\n"
   ]
  }
 ],
 "metadata": {
  "application/vnd.databricks.v1+notebook": {
   "computePreferences": null,
   "dashboards": [],
   "environmentMetadata": null,
   "inputWidgetPreferences": null,
   "language": "sql",
   "notebookMetadata": {
    "pythonIndentUnit": 4,
    "sqlQueryOptions": {
     "applyAutoLimit": true,
     "catalog": "workspace",
     "schema": "default"
    }
   },
   "notebookName": "16. PWC_Sales_&_Revenue.dbquery.ipynb",
   "widgets": {}
  },
  "language_info": {
   "name": "sql"
  }
 },
 "nbformat": 4,
 "nbformat_minor": 0
}

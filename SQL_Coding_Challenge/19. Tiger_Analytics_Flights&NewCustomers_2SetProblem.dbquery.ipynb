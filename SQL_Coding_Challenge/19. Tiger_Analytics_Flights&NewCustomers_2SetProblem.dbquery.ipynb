{
 "cells": [
  {
   "cell_type": "code",
   "execution_count": 0,
   "metadata": {
    "application/vnd.databricks.v1+cell": {
     "cellMetadata": {
      "byteLimit": 10485760,
      "rowLimit": 1000
     },
     "inputWidgets": {},
     "nuid": "9289c146-f383-4030-af17-85b385f99731",
     "showTitle": false,
     "tableResultSettingsMap": {
      "0": {
       "dataGridStateBlob": "{\"version\":1,\"tableState\":{\"columnPinning\":{\"left\":[\"#row_number#\"],\"right\":[]},\"columnSizing\":{},\"columnVisibility\":{}},\"settings\":{\"columns\":{}},\"syncTimestamp\":1760254123261}",
       "filterBlob": null,
       "queryPlanFiltersBlob": null,
       "tableResultIndex": 0
      }
     },
     "title": ""
    }
   },
   "outputs": [],
   "source": [
    "------------------------------ TABLE FORMATION ------------------------------\n",
    "drop table if exists flights;\n",
    "drop table if exists sales;\n",
    "\n",
    "CREATE TABLE flights \n",
    "(\n",
    "    cid VARCHAR(512),\n",
    "    fid VARCHAR(512),\n",
    "    origin VARCHAR(512),\n",
    "    Destination VARCHAR(512)\n",
    ");\n",
    "\n",
    "INSERT INTO flights (cid, fid, origin, Destination) VALUES ('1', 'f1', 'Del', 'Hyd');\n",
    "INSERT INTO flights (cid, fid, origin, Destination) VALUES ('1', 'f2', 'Hyd', 'Blr');\n",
    "INSERT INTO flights (cid, fid, origin, Destination) VALUES ('2', 'f3', 'Mum', 'Agra');\n",
    "INSERT INTO flights (cid, fid, origin, Destination) VALUES ('2', 'f4', 'Agra', 'Kol');\n",
    "\n",
    "-- Problem 2:\n",
    "\n",
    "CREATE TABLE sales \n",
    "(\n",
    "    order_date date,\n",
    "    customer VARCHAR(512),\n",
    "    qty INT\n",
    ");\n",
    "\n",
    "INSERT INTO sales (order_date, customer, qty) VALUES ('2021-01-01', 'C1', '20');\n",
    "INSERT INTO sales (order_date, customer, qty) VALUES ('2021-01-01', 'C2', '30');\n",
    "INSERT INTO sales (order_date, customer, qty) VALUES ('2021-02-01', 'C1', '10');\n",
    "INSERT INTO sales (order_date, customer, qty) VALUES ('2021-02-01', 'C3', '15');\n",
    "INSERT INTO sales (order_date, customer, qty) VALUES ('2021-03-01', 'C5', '19');\n",
    "INSERT INTO sales (order_date, customer, qty) VALUES ('2021-03-01', 'C4', '10');\n",
    "INSERT INTO sales (order_date, customer, qty) VALUES ('2021-04-01', 'C3', '13');\n",
    "INSERT INTO sales (order_date, customer, qty) VALUES ('2021-04-01', 'C5', '15');\n",
    "INSERT INTO sales (order_date, customer, qty) VALUES ('2021-04-01', 'C6', '10');\n",
    "------------------------------------------------------------------------------------------\n",
    "\n",
    "/*\n",
    "Q1: \n",
    "Find th ORIGIN and DESTINATION of each cid.\n",
    "*/\n",
    "\n",
    "-- Ans1:\n",
    "-- Method 1: \n",
    "select f1.cid, f1.origin as origin, f2.Destination as destination\n",
    "from flights as f1\n",
    "join flights as f2\n",
    "on f1.cid = f2.cid and f1.Destination = f2.origin;\n",
    "\n",
    "------------------------------------------------------------------------------------------\n",
    "/*\n",
    "Q2: \n",
    "Find the count of new customers added in each month.\n",
    "*/\n",
    "\n",
    "-- Ans2:\n",
    "-- Method 1: \n",
    "select * from sales;\n",
    "\n",
    "with cte as\n",
    "(\n",
    "select *, row_number() over(partition by customer order by order_date) as rn\n",
    "from sales\n",
    ")\n",
    "select month(order_date) as month, count(distinct customer) as new_customers\n",
    "from cte \n",
    "where rn = 1\n",
    "group by month(order_date);\n"
   ]
  }
 ],
 "metadata": {
  "application/vnd.databricks.v1+notebook": {
   "computePreferences": null,
   "dashboards": [],
   "environmentMetadata": null,
   "inputWidgetPreferences": null,
   "language": "sql",
   "notebookMetadata": {
    "pythonIndentUnit": 4,
    "sqlQueryOptions": {
     "applyAutoLimit": true,
     "catalog": "workspace",
     "schema": "default"
    }
   },
   "notebookName": "19. Tiger_Analytics_Flights&NewCustomers_2SetProblem.dbquery.ipynb",
   "widgets": {}
  },
  "language_info": {
   "name": "sql"
  }
 },
 "nbformat": 4,
 "nbformat_minor": 0
}

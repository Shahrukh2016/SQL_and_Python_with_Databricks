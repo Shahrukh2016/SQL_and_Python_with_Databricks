{
 "cells": [
  {
   "cell_type": "code",
   "execution_count": 0,
   "metadata": {
    "application/vnd.databricks.v1+cell": {
     "cellMetadata": {
      "byteLimit": 10485760,
      "rowLimit": 64000
     },
     "inputWidgets": {},
     "nuid": "129a729d-229f-4488-ab35-079f9d132010",
     "showTitle": false,
     "tableResultSettingsMap": {
      "0": {
       "dataGridStateBlob": "{\"version\":1,\"tableState\":{\"columnPinning\":{\"left\":[\"#row_number#\"],\"right\":[]},\"columnSizing\":{},\"columnVisibility\":{}},\"settings\":{\"columns\":{}},\"syncTimestamp\":1759391947877}",
       "filterBlob": null,
       "queryPlanFiltersBlob": null,
       "tableResultIndex": 0
      }
     },
     "title": ""
    }
   },
   "outputs": [],
   "source": [
    "------------------------------ TABLE FORMATION ------------------------------\n",
    "------------------------------ TABLE FORMATION ------------------------------\n",
    "-- Drop both table if exists\n",
    "DROP TABLE IF EXISTS table1;\n",
    "DROP TABLE IF EXISTS table2;\n",
    "\n",
    "-- Create first table with 5 records\n",
    "-- First table: 5 records (with repeats)\n",
    "CREATE TABLE table1 (\n",
    "    id INT\n",
    ");\n",
    "\n",
    "INSERT INTO table1 (id) VALUES\n",
    "(1),\n",
    "(2),\n",
    "(2),\n",
    "(3),\n",
    "(5);\n",
    "\n",
    "\n",
    "-- Second table: 10 records (with repeats)\n",
    "CREATE TABLE table2 (\n",
    "    id INT\n",
    ");\n",
    "\n",
    "INSERT INTO table2 (id) VALUES\n",
    "(1),\n",
    "(1),\n",
    "(2),\n",
    "(3),\n",
    "(3),\n",
    "(4),\n",
    "(5),\n",
    "(5),\n",
    "(5),\n",
    "(6);\n",
    "\n",
    "------------------------------------------------------------------------------------------\n",
    "\n",
    "-- Q1: /*There are 2 tables, first table has 5 records and second table has 10 records.\n",
    "-- you can assume any values in each of the tables. how many maximum and minimum records possible in case of Inner join, left join, right join and full outer join */\n",
    "\n",
    "-- Ans:\n",
    "-- A1: INNER JOIN\n",
    "select count(*) from table1\n",
    "inner join table2\n",
    "using(id);\n",
    "\n",
    "-- A2: LEFT JOIN\n",
    "select count(*) from table1\n",
    "left join table2\n",
    "using(id);\n",
    "\n",
    "-- A3: RIGHT JOIN\n",
    "select count(*) from table1\n",
    "right join table2\n",
    "using(id);\n",
    "\n",
    "-- A4: FULL OUTER JOIN\n",
    "select * from table1\n",
    "full outer join table2\n",
    "using(id);\n",
    "\n",
    "\n",
    "/* \n",
    "Formula to find max and min possible records using inner, left, right, and full outer join:\n",
    "1. For MAX records:\n",
    " - INNER: count(table1) * count(table2)\n",
    " - LEFT: count(table1) * count(table2)\n",
    " - RIGHT: count(table1) * count(table2)\n",
    " - FULL OUTER: count(table1) * count(table2)\n",
    "\n",
    "2. For MIN records:\n",
    " - INNER: 0\n",
    " - LEFT: count(table1)\n",
    " - RIGHT: count(table2)\n",
    " - FULL OUTER: count(table1) + count(table2)\n",
    "*/"
   ]
  }
 ],
 "metadata": {
  "application/vnd.databricks.v1+notebook": {
   "computePreferences": null,
   "dashboards": [],
   "environmentMetadata": null,
   "inputWidgetPreferences": null,
   "language": "sql",
   "notebookMetadata": {
    "pythonIndentUnit": 4,
    "sqlQueryOptions": {
     "applyAutoLimit": false,
     "catalog": "workspace",
     "schema": "default"
    }
   },
   "notebookName": "8. Amazon_Max_Possible_Records.dbquery.ipynb",
   "widgets": {}
  },
  "language_info": {
   "name": "sql"
  }
 },
 "nbformat": 4,
 "nbformat_minor": 0
}

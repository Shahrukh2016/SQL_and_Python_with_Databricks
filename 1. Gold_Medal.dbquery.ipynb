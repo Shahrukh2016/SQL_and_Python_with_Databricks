{
 "cells": [
  {
   "cell_type": "code",
   "execution_count": 0,
   "metadata": {
    "application/vnd.databricks.v1+cell": {
     "cellMetadata": {
      "byteLimit": 10485760,
      "rowLimit": 64000
     },
     "inputWidgets": {},
     "nuid": "5da8529d-8269-4226-babc-8cb186c18564",
     "showTitle": false,
     "tableResultSettingsMap": {},
     "title": ""
    }
   },
   "outputs": [],
   "source": [
    "------------------------------ TABLE FORMATION ------------------------------\n",
    "CREATE TABLE events (\n",
    "ID int,\n",
    "event varchar(255),\n",
    "YEAR INt,\n",
    "GOLD varchar(255),\n",
    "SILVER varchar(255),\n",
    "BRONZE varchar(255)\n",
    ");\n",
    "\n",
    "delete from events;\n",
    "\n",
    "INSERT INTO events VALUES (1,'100m',2016, 'Amthhew Mcgarray','donald','barbara');\n",
    "INSERT INTO events VALUES (2,'200m',2016, 'Nichole','Alvaro Eaton','janet Smith');\n",
    "INSERT INTO events VALUES (3,'500m',2016, 'Charles','Nichole','Susana');\n",
    "INSERT INTO events VALUES (4,'100m',2016, 'Ronald','maria','paula');\n",
    "INSERT INTO events VALUES (5,'200m',2016, 'Alfred','carol','Steven');\n",
    "INSERT INTO events VALUES (6,'500m',2016, 'Nichole','Alfred','Brandon');\n",
    "INSERT INTO events VALUES (7,'100m',2016, 'Charles','Dennis','Susana');\n",
    "INSERT INTO events VALUES (8,'200m',2016, 'Thomas','Dawn','catherine');\n",
    "INSERT INTO events VALUES (9,'500m',2016, 'Thomas','Dennis','paula');\n",
    "INSERT INTO events VALUES (10,'100m',2016, 'Charles','Dennis','Susana');\n",
    "INSERT INTO events VALUES (11,'200m',2016, 'jessica','Donald','Stefeney');\n",
    "INSERT INTO events VALUES (12,'500m',2016,'Thomas','Steven','Catherine');\n",
    "\n",
    "------------------------------------------------------------------------------------------\n",
    "\n",
    "-- Q1: Write a query to find no of gold medal per swimmer for swimmers who won only gold medals.\n",
    "select * from events;\n",
    "\n",
    "-- Ans:\n",
    "-- Method 1: SubQuery\n",
    "select GOLD as player_name, count(*) as no_of_medals\n",
    "from events \n",
    "where GOLD not in (select SILVER from events union all select BRONZE from events)\n",
    "group by GOLD;\n",
    "\n",
    "-- Method 2: Group By Having\n",
    "with cte as (\n",
    "select gold as player_name, 'gold' as medal_type from events\n",
    "union all \n",
    "select silver, 'silver' as medal_type from events\n",
    "union all\n",
    "select bronze, 'bronze' as medal_type from events\n",
    ")\n",
    "\n",
    "select player_name, count(1) as no_of_medals\n",
    "from cte\n",
    "group by player_name\n",
    "having count(distinct medal_type) = 1 and max(medal_type) = 'gold'\n",
    "\n",
    "\n",
    "\n"
   ]
  }
 ],
 "metadata": {
  "application/vnd.databricks.v1+notebook": {
   "computePreferences": null,
   "dashboards": [],
   "environmentMetadata": null,
   "inputWidgetPreferences": null,
   "language": "sql",
   "notebookMetadata": {
    "pythonIndentUnit": 4,
    "sqlQueryOptions": {
     "applyAutoLimit": false,
     "catalog": "workspace",
     "schema": "default"
    }
   },
   "notebookName": "1. Gold_Medal.dbquery.ipynb",
   "widgets": {}
  },
  "language_info": {
   "name": "sql"
  }
 },
 "nbformat": 4,
 "nbformat_minor": 0
}

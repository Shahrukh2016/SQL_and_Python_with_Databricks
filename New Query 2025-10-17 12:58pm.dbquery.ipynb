{
 "cells": [
  {
   "cell_type": "code",
   "execution_count": 0,
   "metadata": {
    "application/vnd.databricks.v1+cell": {
     "cellMetadata": {
      "byteLimit": 10485760,
      "rowLimit": 1000
     },
     "inputWidgets": {},
     "nuid": "48e609ea-6300-4681-9f91-da72a10a9907",
     "showTitle": false,
     "tableResultSettingsMap": {},
     "title": ""
    }
   },
   "outputs": [],
   "source": [
    "create table sku \n",
    "(\n",
    "sku_id int,\n",
    "price_date date ,\n",
    "price int\n",
    ");\n",
    "delete from sku;\n",
    "insert into sku values \n",
    "(1,'2023-01-01',10)\n",
    ",(1,'2023-02-15',15)\n",
    ",(1,'2023-03-03',18)\n",
    ",(1,'2023-03-27',15)\n",
    ",(1,'2023-04-06',20);\n",
    "\n",
    "\n",
    "Select *\n",
    "from sku;\n",
    "\n",
    "With tb as (Select sku_id ,price_date , \n",
    "dateadd(day ,-1, lead(price_date, 1,\"2099-01-01\") over(order by price_date)) as next , price\n",
    "from sku ),\n",
    "\n",
    "dates as (\n",
    "Select min(price_date) as min_date , \n",
    "max(price_date) as max_date\n",
    "from sku),\n",
    "\n",
    "date_series as (\n",
    "  select explode(\n",
    "    sequence(\n",
    "      (select min_date from dates),\n",
    "      (select max_date from dates),\n",
    "      interval 1 day\n",
    "    )\n",
    "  ) as min_date\n",
    ")\n",
    "\n",
    "Select min_date , price, \n",
    "price- lag(price ,1,10) over(order by min_date) as diff\n",
    "from (\n",
    "Select date_series.min_date , tb.price \n",
    "from date_series\n",
    "join tb \n",
    "on date_series.min_date >= tb.price_date and date_series.min_date <= tb.next\n",
    "where day(date_series.min_date) =1 ) as a"
   ]
  }
 ],
 "metadata": {
  "application/vnd.databricks.v1+notebook": {
   "computePreferences": null,
   "dashboards": [],
   "environmentMetadata": null,
   "inputWidgetPreferences": null,
   "language": "sql",
   "notebookMetadata": {
    "pythonIndentUnit": 4,
    "sqlQueryOptions": {
     "applyAutoLimit": true,
     "catalog": "workspace",
     "schema": "default"
    }
   },
   "notebookName": "New Query 2025-10-17 12:58pm.dbquery.ipynb",
   "widgets": {}
  },
  "language_info": {
   "name": "sql"
  }
 },
 "nbformat": 4,
 "nbformat_minor": 0
}

{
 "cells": [
  {
   "cell_type": "code",
   "execution_count": 0,
   "metadata": {
    "application/vnd.databricks.v1+cell": {
     "cellMetadata": {
      "byteLimit": 2048000,
      "rowLimit": 10000
     },
     "inputWidgets": {},
     "nuid": "71b41bac-be9c-465d-9a30-658e5a869c44",
     "showTitle": false,
     "tableResultSettingsMap": {},
     "title": ""
    }
   },
   "outputs": [],
   "source": [
    "## 1a. Ques: Write a python program to check if the given number is prime or not.\n",
    "\n",
    "## 1b. Code logic\n",
    "def is_prime(num: int) -> bool:\n",
    "    if num <= 1:\n",
    "        return False\n",
    "    elif num > 1:\n",
    "      for i in range(2, int(num ** 0.5) + 1):\n",
    "          if num % i == 0:\n",
    "            return False\n",
    "    return True\n",
    "\n",
    "## 1c. Code testing\n",
    "is_prime(17)"
   ]
  },
  {
   "cell_type": "code",
   "execution_count": 0,
   "metadata": {
    "application/vnd.databricks.v1+cell": {
     "cellMetadata": {
      "byteLimit": 2048000,
      "rowLimit": 10000
     },
     "inputWidgets": {},
     "nuid": "92a17180-20a0-4d7c-8b04-c8d1c2bab477",
     "showTitle": false,
     "tableResultSettingsMap": {},
     "title": ""
    }
   },
   "outputs": [],
   "source": [
    "## 2a. Ques: Write a python program to find the factorial of a given number\n",
    "\n",
    "## 2b. Code logic\n",
    "def fact(num: int) -> int:\n",
    "    if num == 0 or num == 1:\n",
    "        return 1\n",
    "    else:\n",
    "        return num * fact(num - 1)\n",
    "\n",
    "## 2c. Code testing\n",
    "fact(12)"
   ]
  },
  {
   "cell_type": "code",
   "execution_count": 0,
   "metadata": {
    "application/vnd.databricks.v1+cell": {
     "cellMetadata": {
      "byteLimit": 2048000,
      "rowLimit": 10000
     },
     "inputWidgets": {},
     "nuid": "814c7f3e-76cf-4f9b-9817-4638b764e0ec",
     "showTitle": false,
     "tableResultSettingsMap": {},
     "title": ""
    }
   },
   "outputs": [],
   "source": [
    "## 3a. Ques: Write a python program for n-th fibonacci number.\n",
    "\n",
    "## 2b. Code logic\n",
    "def fabonacci(num: int) -> list:\n",
    "    if num <= 0:\n",
    "        return []\n",
    "    elif num == 1:\n",
    "        return [0]\n",
    "    elif num == 2:\n",
    "        return [0, 1]\n",
    "    else:\n",
    "        fib_list = [0, 1]\n",
    "        for i in range(2, num):\n",
    "            fib_list.append(fib_list[i - 1] + fib_list[i - 2])\n",
    "        return fib_list\n",
    "    \n",
    "## 2c. Code testing\n",
    "fabonacci(10)"
   ]
  },
  {
   "cell_type": "code",
   "execution_count": 0,
   "metadata": {
    "application/vnd.databricks.v1+cell": {
     "cellMetadata": {
      "byteLimit": 2048000,
      "rowLimit": 10000
     },
     "inputWidgets": {},
     "nuid": "eb11f36f-a576-4d3c-823f-34de1ac19525",
     "showTitle": false,
     "tableResultSettingsMap": {},
     "title": ""
    }
   },
   "outputs": [],
   "source": [
    "## 3a. Ques: Write a python program for sum of squares of first n natural numbers.\n",
    "\n",
    "## 3b. Code logic\n",
    "def sum_of_squares(num: int) -> int:\n",
    "    return sum([i ** 2 for i in range(1, num + 1)])\n",
    "\n",
    "## 3c. Code testing\n",
    "sum_of_squares(10)"
   ]
  },
  {
   "cell_type": "code",
   "execution_count": 0,
   "metadata": {
    "application/vnd.databricks.v1+cell": {
     "cellMetadata": {
      "byteLimit": 2048000,
      "rowLimit": 10000
     },
     "inputWidgets": {},
     "nuid": "6233a0e0-d2a9-4525-b545-84369c460a3f",
     "showTitle": false,
     "tableResultSettingsMap": {},
     "title": ""
    }
   },
   "outputs": [],
   "source": [
    "## 4a. Ques: Armstrong number is a number that is equal to the sum of its digits, each raised to the power of the number of digits in the number. For example, 153 is an Armstrong number because 1 ^ 3 + 5 ^ 3 +3^3153.\n",
    "\n",
    "## 4b. Code logic\n",
    "def is_armstrong(num: int) -> bool:\n",
    "    return sum([int(digit) ** len(str(num)) for digit in str(num)]) == num\n",
    "\n",
    "## 4c. Code testing\n",
    "is_armstrong(153)"
   ]
  },
  {
   "cell_type": "code",
   "execution_count": 0,
   "metadata": {
    "application/vnd.databricks.v1+cell": {
     "cellMetadata": {
      "byteLimit": 2048000,
      "rowLimit": 10000
     },
     "inputWidgets": {},
     "nuid": "bf2121c5-3bf3-48e2-853c-92f535532b18",
     "showTitle": false,
     "tableResultSettingsMap": {},
     "title": ""
    }
   },
   "outputs": [],
   "source": [
    "## 5a. Ques: Check if the given number is palindrome or nor.\n",
    "\n",
    "## 5b. Code logic\n",
    "def is_palindrome(num: int) -> bool:\n",
    "    return str(num) == str(num)[::-1]\n",
    "\n",
    "## 5c. Code testing\n",
    "is_palindrome(15351)"
   ]
  },
  {
   "cell_type": "code",
   "execution_count": 0,
   "metadata": {
    "application/vnd.databricks.v1+cell": {
     "cellMetadata": {
      "byteLimit": 2048000,
      "rowLimit": 10000
     },
     "inputWidgets": {},
     "nuid": "61a5352f-72a2-453c-be46-a390e1eca29e",
     "showTitle": false,
     "tableResultSettingsMap": {},
     "title": ""
    }
   },
   "outputs": [],
   "source": [
    "#### Where it is asked: Amazon\n",
    "'''\n",
    "6a. Ques: Given a string, write a function to find the length of the longest substring without repeating characters.\n",
    "Example:\n",
    "Input: \"abcabcbb\"\n",
    "Output: 3\n",
    "'''\n",
    "\n",
    "## 6b. Code logic\n",
    "def longest_sub_string(string: str) -> int:\n",
    "    counts = {}\n",
    "    for num in range(0, len(string)):\n",
    "        check = ''\n",
    "        for char in string[num:]:\n",
    "            if char not in check:\n",
    "                check = check + char\n",
    "            else:\n",
    "                break\n",
    "        counts[num] = len(check)\n",
    "    return max(counts.values())\n",
    "\n",
    "## 6c. Code testing\n",
    "'''\n",
    "# Test case 1\n",
    "Input: \"abcabcbb\"\n",
    "Output: 3\n",
    "\n",
    "# Test case 2\n",
    "Input: \"bbbbb\"\n",
    "Output: 1\n",
    "\n",
    "# Test case 3\n",
    "Input: \"pwwkew\"\n",
    "Output: 3\n",
    "''' \n",
    "longest_sub_string(\"abcabcbb\")"
   ]
  },
  {
   "cell_type": "code",
   "execution_count": 0,
   "metadata": {
    "application/vnd.databricks.v1+cell": {
     "cellMetadata": {
      "byteLimit": 2048000,
      "rowLimit": 10000
     },
     "inputWidgets": {},
     "nuid": "f5d7e017-72c2-4486-a0a5-0196e7a6652e",
     "showTitle": false,
     "tableResultSettingsMap": {},
     "title": ""
    }
   },
   "outputs": [],
   "source": [
    "#### Where it is asked: Google\n",
    "'''\n",
    "7a. Ques: Write a Python function that takes a string and returns the first non-repeating character.\n",
    "If all characters repeat, return None.\n",
    "\n",
    "Example:\n",
    "\n",
    "Input: \"aabbccdeff\"\n",
    "Output: \"d\"\n",
    "'''\n",
    "\n",
    "## 7b. Code logic\n",
    "def non_repeating(string: str) -> str:\n",
    "    for char in string:\n",
    "        if string.count(char) == 1:\n",
    "            return char\n",
    "    return None\n",
    "\n",
    "## 7c. Code testing\n",
    "'''\n",
    "# Test case 1\n",
    "Input: \"aabbccdeff\"\n",
    "Output: \"d\"\n",
    "\n",
    "# Test case 2\n",
    "Input: \"aabb\"\n",
    "Output: None\n",
    "\n",
    "# Test case 3\n",
    "Input: \"swiss\"\n",
    "Output: \"w\"\n",
    "'''\n",
    "non_repeating(\"swiss\")"
   ]
  },
  {
   "cell_type": "code",
   "execution_count": 0,
   "metadata": {
    "application/vnd.databricks.v1+cell": {
     "cellMetadata": {
      "byteLimit": 2048000,
      "rowLimit": 10000
     },
     "inputWidgets": {},
     "nuid": "35278616-15ab-4992-976c-6fd202983516",
     "showTitle": false,
     "tableResultSettingsMap": {},
     "title": ""
    }
   },
   "outputs": [],
   "source": [
    "#### Where it is asked: Facebook (Meta)\n",
    "'''\n",
    "8a. Ques: Given a list of integers, write a function to return all pairs of numbers that add up to a target value.\n",
    "\n",
    "Example:\n",
    "\n",
    "Input: nums = [2, 7, 11, 15], target = 9\n",
    "Output: [(2, 7)]\n",
    "'''\n",
    "\n",
    "## 8b. Code logic\n",
    "def pairs_of_target(nums: list, target: int) -> list:\n",
    "    pairs = []\n",
    "    for i in range(len(nums)):\n",
    "        for j in range(i + 1, len(nums)):\n",
    "            if nums[i] + nums[j] == target:\n",
    "                pairs.append((nums[i], nums[j]))\n",
    "    return pairs\n",
    "\n",
    "## 8c. Code testing\n",
    "'''\n",
    "# Test case 1\n",
    "Input: nums = [2, 7, 11, 15], target = 9\n",
    "Output: [(2, 7)]\n",
    "\n",
    "# Test case 2\n",
    "Input: nums = [3, 2, 4, 6, -1, 7], target = 6\n",
    "Output: [(2, 4), (-1, 7)]\n",
    "\n",
    "# Test case 3\n",
    "Input: nums = [1, 1, 1], target = 2\n",
    "Output: [(1, 1)]\n",
    "'''\n",
    "pairs_of_target(nums = [3, 2, 4, 6, -1, 7], target = 6)"
   ]
  },
  {
   "cell_type": "code",
   "execution_count": 0,
   "metadata": {
    "application/vnd.databricks.v1+cell": {
     "cellMetadata": {
      "byteLimit": 2048000,
      "rowLimit": 10000
     },
     "inputWidgets": {},
     "nuid": "c7f93bad-1ab4-4e1d-b64d-fa7b0da3e9ea",
     "showTitle": false,
     "tableResultSettingsMap": {},
     "title": ""
    }
   },
   "outputs": [],
   "source": [
    "#### Where it is asked: Netflix   (Later)\n",
    "'''\n",
    "9a. Ques: Write a Python function to compress a string using the counts of repeated characters.\n",
    "\n",
    "Example:\n",
    "\n",
    "Input: \"aabcccccaaa\"\n",
    "Output: \"a2b1c5a3\"\n",
    "\n",
    "If the \"compressed\" string would not become smaller than the original string, return the original string instead.\n",
    "'''\n",
    "\n",
    "## 9b. Code logic\n",
    "def compress_string(string: str) -> str:\n",
    "    compressed = \"\"\n",
    "    count = 1\n",
    "    for i in range(1, len(string)):\n",
    "        occurance = string.count(string[i])\n",
    "        compressed = string[i] + str(occurance)\n",
    "    return compressed\n",
    "\n",
    "## 9c. Code testing\n",
    "'''\n",
    "# Test case 1\n",
    "Input: \"aabcccccaaa\"\n",
    "Output: \"a2b1c5a3\"\n",
    "\n",
    "# Test case 2\n",
    "Input: \"abcdef\"\n",
    "Output: \"abcdef\"\n",
    "\n",
    "# Test case 3\n",
    "Input: \"aaabb\"\n",
    "Output: \"a3b2\"\n",
    "'''\n",
    "compress_string(\"aabcccccaaa\")"
   ]
  },
  {
   "cell_type": "code",
   "execution_count": 0,
   "metadata": {
    "application/vnd.databricks.v1+cell": {
     "cellMetadata": {
      "byteLimit": 2048000,
      "rowLimit": 10000
     },
     "inputWidgets": {},
     "nuid": "19fca876-94de-4a94-8139-2c4984c09de0",
     "showTitle": false,
     "tableResultSettingsMap": {},
     "title": ""
    }
   },
   "outputs": [],
   "source": [
    "#### Where it is asked: Microsoft\n",
    "'''\n",
    "10a. Ques: Write a Python function that takes a list of integers and returns a new list \n",
    "with all the even numbers appearing before the odd numbers.\n",
    "\n",
    "Example:\n",
    "\n",
    "Input: [3, 1, 2, 4]\n",
    "Output: [2, 4, 3, 1]\n",
    "'''\n",
    " \n",
    "## 10b. Code logic\n",
    "def even_odd_sort(nums: list) -> list:\n",
    "    def is_even(num):\n",
    "        return num % 2 == 0\n",
    "    \n",
    "    def is_odd(num):\n",
    "        return num % 2 != 0\n",
    "    \n",
    "    even_nums = list(filter(is_even, nums))\n",
    "    odd_nums = list(filter(is_odd, nums))\n",
    "    return even_nums + odd_nums\n",
    "\n",
    "\n",
    "## 10c. Code testing\n",
    "'''\n",
    "# Test case 1\n",
    "Input: [3, 1, 2, 4]\n",
    "Output: [2, 4, 3, 1]\n",
    "\n",
    "# Test case 2\n",
    "Input: [1, 3, 5]\n",
    "Output: [1, 3, 5]\n",
    "\n",
    "# Test case 3\n",
    "Input: [2, 4, 6]\n",
    "Output: [2, 4, 6]\n",
    "'''\n",
    "even_odd_sort([3, 1, 2, 4])\n"
   ]
  },
  {
   "cell_type": "code",
   "execution_count": 0,
   "metadata": {
    "application/vnd.databricks.v1+cell": {
     "cellMetadata": {
      "byteLimit": 2048000,
      "rowLimit": 10000
     },
     "inputWidgets": {},
     "nuid": "ca31b90d-fd55-449d-99f4-5de3010b8706",
     "showTitle": false,
     "tableResultSettingsMap": {},
     "title": ""
    }
   },
   "outputs": [],
   "source": [
    "#### Where it is asked: Google\n",
    "'''\n",
    "11a. Ques: Write a Python function that returns the most frequent element in a list.\n",
    "\n",
    "Example:\n",
    "\n",
    "Input: [1, 3, 2, 1, 4, 1]\n",
    "Output: 1\n",
    "'''\n",
    " \n",
    "## 11b. Code logic\n",
    "def most_frequent_num(nums = list) -> int:\n",
    "    freq = {}\n",
    "    for i in nums:\n",
    "        if i not in freq:\n",
    "            freq[i] = 1\n",
    "        else:\n",
    "            freq[i] = freq[i] + 1\n",
    "    return max(freq, key=freq.get)\n",
    "\n",
    "## 11c. Code testing\n",
    "'''\n",
    "# Test case 1\n",
    "Input: [1, 3, 2, 1, 4, 1]\n",
    "Output: 1\n",
    "\n",
    "# Test case 2\n",
    "Input: [5, 5, 4, 6, 4, 4, 5]\n",
    "Output: 5\n",
    "\n",
    "# Test case 3\n",
    "Input: ['a', 'b', 'b', 'c', 'b', 'a']\n",
    "Output: 'b'\n",
    "'''\n",
    "most_frequent_num([5, 5, 4, 6, 4, 4, 5])\n"
   ]
  },
  {
   "cell_type": "code",
   "execution_count": 0,
   "metadata": {
    "application/vnd.databricks.v1+cell": {
     "cellMetadata": {
      "byteLimit": 2048000,
      "rowLimit": 10000
     },
     "inputWidgets": {},
     "nuid": "58a7d4e2-1221-4a1c-a99c-1aae7f9cdf9b",
     "showTitle": false,
     "tableResultSettingsMap": {},
     "title": ""
    }
   },
   "outputs": [],
   "source": [
    "#### Where it is asked: Amazon\n",
    "'''\n",
    "12a. Ques: Write a Python function to find the second most frequent element in a list.\n",
    "\n",
    "Example:\n",
    "\n",
    "Input: [1, 2, 2, 3, 3, 3, 4, 4, 4, 4]\n",
    "Output: 3\n",
    "'''\n",
    " \n",
    "## 12b. Code logic\n",
    "def second_highest_value(nums = list) -> int:\n",
    "    freq = {}\n",
    "    for i in nums:\n",
    "        if i not in freq:\n",
    "            freq[i] = 1\n",
    "        else:\n",
    "            freq[i] = freq[i] + 1\n",
    "    return sorted(freq, key=freq.get, reverse= True)[1]\n",
    "\n",
    "## 12c. Code testing\n",
    "'''\n",
    "# Test case 1\n",
    "Input: [1, 2, 2, 3, 3, 3, 4, 4, 4, 4]\n",
    "Output: 3\n",
    "\n",
    "# Test case 2\n",
    "Input: ['apple', 'banana', 'apple', 'orange', 'banana', 'banana']\n",
    "Output: 'apple'\n",
    "\n",
    "# Test case 3\n",
    "Input: [5, 5, 4, 6, 6, 6, 4, 4]\n",
    "Output: 5\n",
    "'''\n",
    "second_highest_value(['apple', 'banana', 'apple', 'orange', 'banana', 'banana'])"
   ]
  },
  {
   "cell_type": "code",
   "execution_count": 0,
   "metadata": {
    "application/vnd.databricks.v1+cell": {
     "cellMetadata": {
      "byteLimit": 2048000,
      "rowLimit": 10000
     },
     "inputWidgets": {},
     "nuid": "3a57c13f-7bf1-41b9-921e-34e4334d9f6a",
     "showTitle": false,
     "tableResultSettingsMap": {},
     "title": ""
    }
   },
   "outputs": [],
   "source": [
    "#### Where it is asked: Facebook (Meta)\n",
    "'''\n",
    "13a. Ques: Given a list of integers, write a Python function to return the **maximum product of any two numbers** in the list.\n",
    "\n",
    "Example:\n",
    "\n",
    "Input: [1, 10, 2, 6, 5, 3]\n",
    "Output: 60\n",
    "Explanation: 10 * 6 = 60\n",
    "'''\n",
    "\n",
    "## 13b. Code logic\n",
    "def max_product_nums(nums: list) -> int:\n",
    "    nums.sort(reverse=True)\n",
    "    return nums[0] * nums[1]\n",
    "\n",
    "## 13c. Code testing\n",
    "'''\n",
    "# Test case 1\n",
    "Input: [1, 10, 2, 6, 5, 3]\n",
    "Output: 60\n",
    "\n",
    "# Test case 2\n",
    "Input: [-10, -3, 5, 6, -2]\n",
    "Output: 30\n",
    "\n",
    "# Test case 3\n",
    "Input: [0, 4, 3, 0, -2]\n",
    "Output: 12\n",
    "'''\n",
    "max_product_nums([1, 10, 2, 6, 5, 3])"
   ]
  },
  {
   "cell_type": "code",
   "execution_count": 0,
   "metadata": {
    "application/vnd.databricks.v1+cell": {
     "cellMetadata": {
      "byteLimit": 2048000,
      "rowLimit": 10000
     },
     "inputWidgets": {},
     "nuid": "4d3ded59-f187-43ba-b5b3-ccf9918bbbf5",
     "showTitle": false,
     "tableResultSettingsMap": {},
     "title": ""
    }
   },
   "outputs": [],
   "source": [
    "#### Where it is asked: Adobe\n",
    "'''\n",
    "14a. Ques: Write a Python function that removes duplicates from a list while maintaining the original order.\n",
    "\n",
    "Example:\n",
    "\n",
    "Input: [1, 2, 2, 3, 4, 4, 5]\n",
    "Output: [1, 2, 3, 4, 5]\n",
    "'''\n",
    "\n",
    "## 14b. Code logic\n",
    "def remove_duplicates(nums: list) -> list:\n",
    "    result = []\n",
    "    for i in nums:\n",
    "        if i not in result:\n",
    "            result.append(i)\n",
    "    return result\n",
    "\n",
    "# OR\n",
    "# def remove_duplicates(nums: list) -> list:\n",
    "#     return sorted(list(set(nums)), reverse=False)\n",
    "\n",
    "\n",
    "## 14c. Code testing\n",
    "'''\n",
    "# Test case 1\n",
    "Input: [1, 2, 2, 3, 4, 4, 5]\n",
    "Output: [1, 2, 3, 4, 5]\n",
    "\n",
    "# Test case 2\n",
    "Input: [5, 5, 5, 5]\n",
    "Output: [5]\n",
    "\n",
    "# Test case 3\n",
    "Input: [1, 2, 3, 4]\n",
    "Output: [1, 2, 3, 4]\n",
    "'''\n",
    "remove_duplicates([1, 2, 2, 3, 4, 4, 5])"
   ]
  },
  {
   "cell_type": "code",
   "execution_count": 0,
   "metadata": {
    "application/vnd.databricks.v1+cell": {
     "cellMetadata": {
      "byteLimit": 2048000,
      "rowLimit": 10000
     },
     "inputWidgets": {},
     "nuid": "633c0d57-246c-4e3f-98ba-3bde2f3c7565",
     "showTitle": false,
     "tableResultSettingsMap": {},
     "title": ""
    }
   },
   "outputs": [],
   "source": [
    "#### Where it is asked: Swiggy\n",
    "'''\n",
    "17a. Ques: Write a Python function to find all pairs of integers in a list whose sum equals a given target.\n",
    "\n",
    "Example:\n",
    "\n",
    "Input: [2, 4, 3, 5, 7, 8, 9], target = 7\n",
    "Output: [(2, 5), (4, 3)]\n",
    "'''\n",
    "\n",
    "## 17b. Code logic\n",
    "def find_pairs(nums: list, target: int) -> list:\n",
    "    pairs = []\n",
    "    for i in range(len(nums)):\n",
    "        for j in range(i + 1, len(nums)):\n",
    "            if nums[i] + nums[j] == target:\n",
    "                pairs.append((nums[i], nums[j]))\n",
    "    return pairs\n",
    "\n",
    "## 17c. Code testing\n",
    "'''\n",
    "# Test case 1\n",
    "Input: [2, 4, 3, 5, 7, 8, 9], target = 7\n",
    "Output: [(2, 5), (4, 3)]\n",
    "\n",
    "# Test case 2\n",
    "Input: [1, 2, 3, 4, 5], target = 5\n",
    "Output: [(1, 4), (2, 3)]\n",
    "\n",
    "# Test case 3\n",
    "Input: [5, 5, 5, 5], target = 10\n",
    "Output: [(5, 5)]\n",
    "'''\n",
    "find_pairs([2, 4, 3, 5, 7, 8, 9], target = 7)\n"
   ]
  },
  {
   "cell_type": "code",
   "execution_count": 0,
   "metadata": {
    "application/vnd.databricks.v1+cell": {
     "cellMetadata": {
      "byteLimit": 2048000,
      "rowLimit": 10000
     },
     "inputWidgets": {},
     "nuid": "272ca8bd-4d4b-4ab8-875e-4f006eebbe5e",
     "showTitle": false,
     "tableResultSettingsMap": {},
     "title": ""
    }
   },
   "outputs": [],
   "source": [
    "#### Where it is asked: Paytm\n",
    "'''\n",
    "18a. Ques: Write a Python function to count the frequency of each word in a given sentence.\n",
    "Ignore case sensitivity and punctuation.\n",
    "\n",
    "Example:\n",
    "\n",
    "Input: \"Paytm is great, and Paytm is reliable\"\n",
    "Output: {'paytm': 2, 'is': 2, 'great': 1, 'and': 1, 'reliable': 1}\n",
    "'''\n",
    "\n",
    "## 18b. Code logic\n",
    "def worf_freq_count(sentence: str) -> dict:\n",
    "    sentence = sentence.lower()\n",
    "    words = sentence.split()\n",
    "    freq = {}\n",
    "    for word in words:\n",
    "        word = word.strip('.,!?')\n",
    "        if word not in freq:\n",
    "            freq[word] = 1\n",
    "        else:\n",
    "            freq[word] = freq[word] + 1\n",
    "    return freq\n",
    "\n",
    "## 18c. Code testing\n",
    "'''\n",
    "# Test case 1\n",
    "Input: \"Paytm is great, and Paytm is reliable\"\n",
    "Output: {'paytm': 2, 'is': 2, 'great': 1, 'and': 1, 'reliable': 1}\n",
    "\n",
    "# Test case 2\n",
    "Input: \"Hello hello world!\"\n",
    "Output: {'hello': 2, 'world': 1}\n",
    "\n",
    "# Test case 3\n",
    "Input: \"One two three\"\n",
    "Output: {'one': 1, 'two': 1, 'three': 1}\n",
    "'''\n",
    "worf_freq_count(\"Paytm is great, and Paytm is reliable\")"
   ]
  },
  {
   "cell_type": "code",
   "execution_count": 0,
   "metadata": {
    "application/vnd.databricks.v1+cell": {
     "cellMetadata": {},
     "inputWidgets": {},
     "nuid": "e2b073f9-3b29-47a9-8ca4-e65133bd0c66",
     "showTitle": false,
     "tableResultSettingsMap": {},
     "title": ""
    }
   },
   "outputs": [],
   "source": []
  }
 ],
 "metadata": {
  "application/vnd.databricks.v1+notebook": {
   "computePreferences": {
    "hardware": {
     "accelerator": null,
     "gpuPoolId": null,
     "memory": null
    }
   },
   "dashboards": [],
   "environmentMetadata": {
    "base_environment": "",
    "environment_version": "3"
   },
   "inputWidgetPreferences": null,
   "language": "python",
   "notebookMetadata": {
    "pythonIndentUnit": 4
   },
   "notebookName": "1. Python_Basic_Level_Questions",
   "widgets": {}
  },
  "language_info": {
   "name": "python"
  }
 },
 "nbformat": 4,
 "nbformat_minor": 0
}

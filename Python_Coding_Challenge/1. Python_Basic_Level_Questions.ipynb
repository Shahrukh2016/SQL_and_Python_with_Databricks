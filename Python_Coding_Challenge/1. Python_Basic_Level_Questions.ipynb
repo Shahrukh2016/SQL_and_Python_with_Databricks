{
 "cells": [
  {
   "cell_type": "code",
   "execution_count": 0,
   "metadata": {
    "application/vnd.databricks.v1+cell": {
     "cellMetadata": {
      "byteLimit": 2048000,
      "rowLimit": 10000
     },
     "inputWidgets": {},
     "nuid": "71b41bac-be9c-465d-9a30-658e5a869c44",
     "showTitle": false,
     "tableResultSettingsMap": {},
     "title": ""
    }
   },
   "outputs": [],
   "source": [
    "## 1a. Ques: Write a python program to check if the given number is prime or not.\n",
    "\n",
    "## 1b. Code logic\n",
    "def is_prime(num: int) -> bool:\n",
    "    if num <= 1:\n",
    "        return False\n",
    "    elif num > 1:\n",
    "      for i in range(2, int(num ** 0.5) + 1):\n",
    "          if num % i == 0:\n",
    "            return False\n",
    "    return True\n",
    "\n",
    "## 1c. Code testing\n",
    "is_prime(17)"
   ]
  },
  {
   "cell_type": "code",
   "execution_count": 0,
   "metadata": {
    "application/vnd.databricks.v1+cell": {
     "cellMetadata": {
      "byteLimit": 2048000,
      "rowLimit": 10000
     },
     "inputWidgets": {},
     "nuid": "92a17180-20a0-4d7c-8b04-c8d1c2bab477",
     "showTitle": false,
     "tableResultSettingsMap": {},
     "title": ""
    }
   },
   "outputs": [],
   "source": [
    "## 2a. Ques: Write a python program to find the factorial of a given number\n",
    "\n",
    "## 2b. Code logic\n",
    "def fact(num: int) -> int:\n",
    "    if num == 0 or num == 1:\n",
    "        return 1\n",
    "    else:\n",
    "        return num * fact(num - 1)\n",
    "\n",
    "## 2c. Code testing\n",
    "fact(12)"
   ]
  },
  {
   "cell_type": "code",
   "execution_count": 0,
   "metadata": {
    "application/vnd.databricks.v1+cell": {
     "cellMetadata": {
      "byteLimit": 2048000,
      "rowLimit": 10000
     },
     "inputWidgets": {},
     "nuid": "814c7f3e-76cf-4f9b-9817-4638b764e0ec",
     "showTitle": false,
     "tableResultSettingsMap": {},
     "title": ""
    }
   },
   "outputs": [],
   "source": [
    "## 3a. Ques: Write a python program for n-th fibonacci number.\n",
    "\n",
    "## 2b. Code logic\n",
    "def fabonacci(num: int) -> list:\n",
    "    if num <= 0:\n",
    "        return []\n",
    "    elif num == 1:\n",
    "        return [0]\n",
    "    elif num == 2:\n",
    "        return [0, 1]\n",
    "    else:\n",
    "        fib_list = [0, 1]\n",
    "        for i in range(2, num):\n",
    "            fib_list.append(fib_list[i - 1] + fib_list[i - 2])\n",
    "        return fib_list\n",
    "    \n",
    "## 2c. Code testing\n",
    "fabonacci(10)"
   ]
  },
  {
   "cell_type": "code",
   "execution_count": 0,
   "metadata": {
    "application/vnd.databricks.v1+cell": {
     "cellMetadata": {
      "byteLimit": 2048000,
      "rowLimit": 10000
     },
     "inputWidgets": {},
     "nuid": "eb11f36f-a576-4d3c-823f-34de1ac19525",
     "showTitle": false,
     "tableResultSettingsMap": {},
     "title": ""
    }
   },
   "outputs": [],
   "source": [
    "## 3a. Ques: Write a python program for sum of squares of first n natural numbers.\n",
    "\n",
    "## 3b. Code logic\n",
    "def sum_of_squares(num: int) -> int:\n",
    "    return sum([i ** 2 for i in range(1, num + 1)])\n",
    "\n",
    "## 3c. Code testing\n",
    "sum_of_squares(10)"
   ]
  },
  {
   "cell_type": "code",
   "execution_count": 0,
   "metadata": {
    "application/vnd.databricks.v1+cell": {
     "cellMetadata": {
      "byteLimit": 2048000,
      "rowLimit": 10000
     },
     "inputWidgets": {},
     "nuid": "6233a0e0-d2a9-4525-b545-84369c460a3f",
     "showTitle": false,
     "tableResultSettingsMap": {},
     "title": ""
    }
   },
   "outputs": [],
   "source": [
    "## 4a. Ques: Armstrong number is a number that is equal to the sum of its digits, each raised to the power of the number of digits in the number. For example, 153 is an Armstrong number because 1 ^ 3 + 5 ^ 3 +3^3153.\n",
    "\n",
    "## 4b. Code logic\n",
    "def is_armstrong(num: int) -> bool:\n",
    "    return sum([int(digit) ** len(str(num)) for digit in str(num)]) == num\n",
    "\n",
    "## 4c. Code testing\n",
    "is_armstrong(153)"
   ]
  },
  {
   "cell_type": "code",
   "execution_count": 0,
   "metadata": {
    "application/vnd.databricks.v1+cell": {
     "cellMetadata": {
      "byteLimit": 2048000,
      "rowLimit": 10000
     },
     "inputWidgets": {},
     "nuid": "bf2121c5-3bf3-48e2-853c-92f535532b18",
     "showTitle": false,
     "tableResultSettingsMap": {},
     "title": ""
    }
   },
   "outputs": [],
   "source": [
    "## 5a. Ques: Check if the given number is palindrome or nor.\n",
    "\n",
    "## 5b. Code logic\n",
    "def is_palindrome(num: int) -> bool:\n",
    "    return str(num) == str(num)[::-1]\n",
    "\n",
    "## 5c. Code testing\n",
    "is_palindrome(15351)"
   ]
  },
  {
   "cell_type": "code",
   "execution_count": 0,
   "metadata": {
    "application/vnd.databricks.v1+cell": {
     "cellMetadata": {
      "byteLimit": 2048000,
      "rowLimit": 10000
     },
     "inputWidgets": {},
     "nuid": "61a5352f-72a2-453c-be46-a390e1eca29e",
     "showTitle": false,
     "tableResultSettingsMap": {},
     "title": ""
    }
   },
   "outputs": [],
   "source": [
    "#### Where it is asked: Amazon\n",
    "'''\n",
    "6a. Ques: Given a string, write a function to find the length of the longest substring without repeating characters.\n",
    "Example:\n",
    "Input: \"abcabcbb\"\n",
    "Output: 3\n",
    "'''\n",
    "\n",
    "## 6b. Code logic\n",
    "def longest_sub_string(string: str) -> int:\n",
    "    counts = {}\n",
    "    for num in range(0, len(string)):\n",
    "        check = ''\n",
    "        for char in string[num:]:\n",
    "            if char not in check:\n",
    "                check = check + char\n",
    "            else:\n",
    "                break\n",
    "        counts[num] = len(check)\n",
    "    return max(counts.values())\n",
    "\n",
    "## 6c. Code testing\n",
    "'''\n",
    "# Test case 1\n",
    "Input: \"abcabcbb\"\n",
    "Output: 3\n",
    "\n",
    "# Test case 2\n",
    "Input: \"bbbbb\"\n",
    "Output: 1\n",
    "\n",
    "# Test case 3\n",
    "Input: \"pwwkew\"\n",
    "Output: 3\n",
    "''' \n",
    "longest_sub_string(\"abcabcbb\")"
   ]
  },
  {
   "cell_type": "code",
   "execution_count": 0,
   "metadata": {
    "application/vnd.databricks.v1+cell": {
     "cellMetadata": {},
     "inputWidgets": {},
     "nuid": "f5d7e017-72c2-4486-a0a5-0196e7a6652e",
     "showTitle": false,
     "tableResultSettingsMap": {},
     "title": ""
    }
   },
   "outputs": [],
   "source": []
  }
 ],
 "metadata": {
  "application/vnd.databricks.v1+notebook": {
   "computePreferences": {
    "hardware": {
     "accelerator": null,
     "gpuPoolId": null,
     "memory": null
    }
   },
   "dashboards": [],
   "environmentMetadata": {
    "base_environment": "",
    "environment_version": "3"
   },
   "inputWidgetPreferences": null,
   "language": "python",
   "notebookMetadata": {
    "pythonIndentUnit": 4
   },
   "notebookName": "1. Python_Basic_Level_Questions",
   "widgets": {}
  },
  "language_info": {
   "name": "python"
  }
 },
 "nbformat": 4,
 "nbformat_minor": 0
}
